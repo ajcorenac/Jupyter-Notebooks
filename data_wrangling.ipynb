{
  "nbformat": 4,
  "nbformat_minor": 0,
  "metadata": {
    "anaconda-cloud": {},
    "kernelspec": {
      "display_name": "Python",
      "language": "python",
      "name": "conda-env-python-py"
    },
    "language_info": {
      "codemirror_mode": {
        "name": "ipython",
        "version": 3
      },
      "file_extension": ".py",
      "mimetype": "text/x-python",
      "name": "python",
      "nbconvert_exporter": "python",
      "pygments_lexer": "ipython3",
      "version": "3.6.7"
    },
    "colab": {
      "name": "data-wrangling.ipynb",
      "provenance": [],
      "include_colab_link": true
    }
  },
  "cells": [
    {
      "cell_type": "markdown",
      "metadata": {
        "id": "view-in-github",
        "colab_type": "text"
      },
      "source": [
        "<a href=\"https://colab.research.google.com/github/ajcorenac/Jupyter-Notebooks/blob/master/data_wrangling.ipynb\" target=\"_parent\"><img src=\"https://colab.research.google.com/assets/colab-badge.svg\" alt=\"Open In Colab\"/></a>"
      ]
    },
    {
      "cell_type": "markdown",
      "metadata": {
        "id": "TyUWMZmSKa2a",
        "colab_type": "text"
      },
      "source": [
        "<div class=\"alert alert-block alert-info\" style=\"margin-top: 20px\">\n",
        "    <a href=\"https://cocl.us/corsera_da0101en_notebook_top\">\n",
        "         <img src=\"https://s3-api.us-geo.objectstorage.softlayer.net/cf-courses-data/CognitiveClass/DA0101EN/Images/TopAd.png\" width=\"750\" align=\"center\">\n",
        "    </a>\n",
        "</div>"
      ]
    },
    {
      "cell_type": "markdown",
      "metadata": {
        "id": "HtrtsSMyKa2b",
        "colab_type": "text"
      },
      "source": [
        "<a href=\"https://www.bigdatauniversity.com\"><img src = \"https://s3-api.us-geo.objectstorage.softlayer.net/cf-courses-data/CognitiveClass/DA0101EN/Images/CCLog.png\" width = 300, align = \"center\"></a>\n",
        "\n",
        "<h1 align=center><font size=5>Data Analysis with Python</font></h1>"
      ]
    },
    {
      "cell_type": "markdown",
      "metadata": {
        "id": "HhWp5xYnKa2c",
        "colab_type": "text"
      },
      "source": [
        "<h1>Data Wrangling</h1>"
      ]
    },
    {
      "cell_type": "markdown",
      "metadata": {
        "id": "C09SAxovKa2c",
        "colab_type": "text"
      },
      "source": [
        "<h3>Welcome!</h3>\n",
        "\n",
        "By the end of this notebook, you will have learned the basics of Data Wrangling! "
      ]
    },
    {
      "cell_type": "markdown",
      "metadata": {
        "id": "GQPk0F3WKa2d",
        "colab_type": "text"
      },
      "source": [
        "<h2>Table of content</h2>\n",
        "\n",
        "<div class=\"alert alert-block alert-info\" style=\"margin-top: 20px\">\n",
        "<ul>\n",
        "    <li><a href=\"#identify_handle_missing_values\">Identify and handle missing values</a>\n",
        "        <ul>\n",
        "            <li><a href=\"#identify_missing_values\">Identify missing values</a></li>\n",
        "            <li><a href=\"#deal_missing_values\">Deal with missing values</a></li>\n",
        "            <li><a href=\"#correct_data_format\">Correct data format</a></li>\n",
        "        </ul>\n",
        "    </li>\n",
        "    <li><a href=\"#data_standardization\">Data standardization</a></li>\n",
        "    <li><a href=\"#data_normalization\">Data Normalization (centering/scaling)</a></li>\n",
        "    <li><a href=\"#binning\">Binning</a></li>\n",
        "    <li><a href=\"#indicator\">Indicator variable</a></li>\n",
        "</ul>\n",
        "    \n",
        "Estimated Time Needed: <strong>30 min</strong>\n",
        "</div>\n",
        " \n",
        "<hr>"
      ]
    },
    {
      "cell_type": "markdown",
      "metadata": {
        "id": "pMCwPdReKa2e",
        "colab_type": "text"
      },
      "source": [
        "<h2>What is the purpose of Data Wrangling?</h2>"
      ]
    },
    {
      "cell_type": "markdown",
      "metadata": {
        "id": "_vIOmJJoKa2e",
        "colab_type": "text"
      },
      "source": [
        "Data Wrangling is the process of converting data from the initial format to a format that may be better for analysis."
      ]
    },
    {
      "cell_type": "markdown",
      "metadata": {
        "id": "Vad94HSgKa2f",
        "colab_type": "text"
      },
      "source": [
        "<h3>What is the fuel consumption (L/100k) rate for the diesel car?</h3>"
      ]
    },
    {
      "cell_type": "markdown",
      "metadata": {
        "id": "tB0oqDgKKa2f",
        "colab_type": "text"
      },
      "source": [
        "<h3>Import data</h3>\n",
        "<p>\n",
        "You can find the \"Automobile Data Set\" from the following link: <a href=\"https://archive.ics.uci.edu/ml/machine-learning-databases/autos/imports-85.data\">https://archive.ics.uci.edu/ml/machine-learning-databases/autos/imports-85.data</a>. \n",
        "We will be using this data set throughout this course.\n",
        "</p>"
      ]
    },
    {
      "cell_type": "markdown",
      "metadata": {
        "id": "pwKn4gzdKa2g",
        "colab_type": "text"
      },
      "source": [
        "<h4>Import pandas</h4> "
      ]
    },
    {
      "cell_type": "code",
      "metadata": {
        "id": "tepIDPNDKa2g",
        "colab_type": "code",
        "colab": {}
      },
      "source": [
        "import pandas as pd\n",
        "import matplotlib.pylab as plt"
      ],
      "execution_count": 0,
      "outputs": []
    },
    {
      "cell_type": "markdown",
      "metadata": {
        "id": "HWBj41zeKa2j",
        "colab_type": "text"
      },
      "source": [
        "<h2>Reading the data set from the URL and adding the related headers.</h2>"
      ]
    },
    {
      "cell_type": "markdown",
      "metadata": {
        "id": "mcPrMeu6Ka2k",
        "colab_type": "text"
      },
      "source": [
        "URL of the dataset"
      ]
    },
    {
      "cell_type": "markdown",
      "metadata": {
        "id": "SORxSbT5Ka2k",
        "colab_type": "text"
      },
      "source": [
        "This dataset was hosted on IBM Cloud object click <a href=\"https://cocl.us/corsera_da0101en_notebook_bottom\">HERE</a> for free storage "
      ]
    },
    {
      "cell_type": "code",
      "metadata": {
        "id": "W-jISnHcKa2l",
        "colab_type": "code",
        "colab": {}
      },
      "source": [
        "filename = \"https://s3-api.us-geo.objectstorage.softlayer.net/cf-courses-data/CognitiveClass/DA0101EN/auto.csv\""
      ],
      "execution_count": 0,
      "outputs": []
    },
    {
      "cell_type": "markdown",
      "metadata": {
        "id": "hwF6h16EKa2o",
        "colab_type": "text"
      },
      "source": [
        " Python list <b>headers</b> containing name of headers "
      ]
    },
    {
      "cell_type": "code",
      "metadata": {
        "id": "0g243R6TKa2o",
        "colab_type": "code",
        "colab": {}
      },
      "source": [
        "headers = [\"symboling\",\"normalized-losses\",\"make\",\"fuel-type\",\"aspiration\", \"num-of-doors\",\"body-style\",\n",
        "         \"drive-wheels\",\"engine-location\",\"wheel-base\", \"length\",\"width\",\"height\",\"curb-weight\",\"engine-type\",\n",
        "         \"num-of-cylinders\", \"engine-size\",\"fuel-system\",\"bore\",\"stroke\",\"compression-ratio\",\"horsepower\",\n",
        "         \"peak-rpm\",\"city-mpg\",\"highway-mpg\",\"price\"]"
      ],
      "execution_count": 0,
      "outputs": []
    },
    {
      "cell_type": "markdown",
      "metadata": {
        "id": "u216vyYlKa2q",
        "colab_type": "text"
      },
      "source": [
        "Use the Pandas method <b>read_csv()</b> to load the data from the web address. Set the parameter  \"names\" equal to the Python list \"headers\"."
      ]
    },
    {
      "cell_type": "code",
      "metadata": {
        "jupyter": {
          "outputs_hidden": false
        },
        "id": "0pB1u15DKa2r",
        "colab_type": "code",
        "colab": {}
      },
      "source": [
        "df = pd.read_csv(filename, names = headers)"
      ],
      "execution_count": 0,
      "outputs": []
    },
    {
      "cell_type": "markdown",
      "metadata": {
        "id": "3PcWxm32Ka2u",
        "colab_type": "text"
      },
      "source": [
        " Use the method <b>head()</b> to display the first five rows of the dataframe. "
      ]
    },
    {
      "cell_type": "code",
      "metadata": {
        "jupyter": {
          "outputs_hidden": false
        },
        "id": "OZkKoxuFKa2u",
        "colab_type": "code",
        "colab": {},
        "outputId": "7a197831-a020-4210-be4c-23ae0295a44f"
      },
      "source": [
        "# To see what the data set looks like, we'll use the head() method.\n",
        "df.head()"
      ],
      "execution_count": 0,
      "outputs": [
        {
          "output_type": "execute_result",
          "data": {
            "text/html": [
              "<div>\n",
              "<style scoped>\n",
              "    .dataframe tbody tr th:only-of-type {\n",
              "        vertical-align: middle;\n",
              "    }\n",
              "\n",
              "    .dataframe tbody tr th {\n",
              "        vertical-align: top;\n",
              "    }\n",
              "\n",
              "    .dataframe thead th {\n",
              "        text-align: right;\n",
              "    }\n",
              "</style>\n",
              "<table border=\"1\" class=\"dataframe\">\n",
              "  <thead>\n",
              "    <tr style=\"text-align: right;\">\n",
              "      <th></th>\n",
              "      <th>symboling</th>\n",
              "      <th>normalized-losses</th>\n",
              "      <th>make</th>\n",
              "      <th>fuel-type</th>\n",
              "      <th>aspiration</th>\n",
              "      <th>num-of-doors</th>\n",
              "      <th>body-style</th>\n",
              "      <th>drive-wheels</th>\n",
              "      <th>engine-location</th>\n",
              "      <th>wheel-base</th>\n",
              "      <th>...</th>\n",
              "      <th>engine-size</th>\n",
              "      <th>fuel-system</th>\n",
              "      <th>bore</th>\n",
              "      <th>stroke</th>\n",
              "      <th>compression-ratio</th>\n",
              "      <th>horsepower</th>\n",
              "      <th>peak-rpm</th>\n",
              "      <th>city-mpg</th>\n",
              "      <th>highway-mpg</th>\n",
              "      <th>price</th>\n",
              "    </tr>\n",
              "  </thead>\n",
              "  <tbody>\n",
              "    <tr>\n",
              "      <th>0</th>\n",
              "      <td>3</td>\n",
              "      <td>?</td>\n",
              "      <td>alfa-romero</td>\n",
              "      <td>gas</td>\n",
              "      <td>std</td>\n",
              "      <td>two</td>\n",
              "      <td>convertible</td>\n",
              "      <td>rwd</td>\n",
              "      <td>front</td>\n",
              "      <td>88.6</td>\n",
              "      <td>...</td>\n",
              "      <td>130</td>\n",
              "      <td>mpfi</td>\n",
              "      <td>3.47</td>\n",
              "      <td>2.68</td>\n",
              "      <td>9.0</td>\n",
              "      <td>111</td>\n",
              "      <td>5000</td>\n",
              "      <td>21</td>\n",
              "      <td>27</td>\n",
              "      <td>13495</td>\n",
              "    </tr>\n",
              "    <tr>\n",
              "      <th>1</th>\n",
              "      <td>3</td>\n",
              "      <td>?</td>\n",
              "      <td>alfa-romero</td>\n",
              "      <td>gas</td>\n",
              "      <td>std</td>\n",
              "      <td>two</td>\n",
              "      <td>convertible</td>\n",
              "      <td>rwd</td>\n",
              "      <td>front</td>\n",
              "      <td>88.6</td>\n",
              "      <td>...</td>\n",
              "      <td>130</td>\n",
              "      <td>mpfi</td>\n",
              "      <td>3.47</td>\n",
              "      <td>2.68</td>\n",
              "      <td>9.0</td>\n",
              "      <td>111</td>\n",
              "      <td>5000</td>\n",
              "      <td>21</td>\n",
              "      <td>27</td>\n",
              "      <td>16500</td>\n",
              "    </tr>\n",
              "    <tr>\n",
              "      <th>2</th>\n",
              "      <td>1</td>\n",
              "      <td>?</td>\n",
              "      <td>alfa-romero</td>\n",
              "      <td>gas</td>\n",
              "      <td>std</td>\n",
              "      <td>two</td>\n",
              "      <td>hatchback</td>\n",
              "      <td>rwd</td>\n",
              "      <td>front</td>\n",
              "      <td>94.5</td>\n",
              "      <td>...</td>\n",
              "      <td>152</td>\n",
              "      <td>mpfi</td>\n",
              "      <td>2.68</td>\n",
              "      <td>3.47</td>\n",
              "      <td>9.0</td>\n",
              "      <td>154</td>\n",
              "      <td>5000</td>\n",
              "      <td>19</td>\n",
              "      <td>26</td>\n",
              "      <td>16500</td>\n",
              "    </tr>\n",
              "    <tr>\n",
              "      <th>3</th>\n",
              "      <td>2</td>\n",
              "      <td>164</td>\n",
              "      <td>audi</td>\n",
              "      <td>gas</td>\n",
              "      <td>std</td>\n",
              "      <td>four</td>\n",
              "      <td>sedan</td>\n",
              "      <td>fwd</td>\n",
              "      <td>front</td>\n",
              "      <td>99.8</td>\n",
              "      <td>...</td>\n",
              "      <td>109</td>\n",
              "      <td>mpfi</td>\n",
              "      <td>3.19</td>\n",
              "      <td>3.40</td>\n",
              "      <td>10.0</td>\n",
              "      <td>102</td>\n",
              "      <td>5500</td>\n",
              "      <td>24</td>\n",
              "      <td>30</td>\n",
              "      <td>13950</td>\n",
              "    </tr>\n",
              "    <tr>\n",
              "      <th>4</th>\n",
              "      <td>2</td>\n",
              "      <td>164</td>\n",
              "      <td>audi</td>\n",
              "      <td>gas</td>\n",
              "      <td>std</td>\n",
              "      <td>four</td>\n",
              "      <td>sedan</td>\n",
              "      <td>4wd</td>\n",
              "      <td>front</td>\n",
              "      <td>99.4</td>\n",
              "      <td>...</td>\n",
              "      <td>136</td>\n",
              "      <td>mpfi</td>\n",
              "      <td>3.19</td>\n",
              "      <td>3.40</td>\n",
              "      <td>8.0</td>\n",
              "      <td>115</td>\n",
              "      <td>5500</td>\n",
              "      <td>18</td>\n",
              "      <td>22</td>\n",
              "      <td>17450</td>\n",
              "    </tr>\n",
              "  </tbody>\n",
              "</table>\n",
              "<p>5 rows × 26 columns</p>\n",
              "</div>"
            ],
            "text/plain": [
              "   symboling normalized-losses         make fuel-type aspiration num-of-doors  \\\n",
              "0          3                 ?  alfa-romero       gas        std          two   \n",
              "1          3                 ?  alfa-romero       gas        std          two   \n",
              "2          1                 ?  alfa-romero       gas        std          two   \n",
              "3          2               164         audi       gas        std         four   \n",
              "4          2               164         audi       gas        std         four   \n",
              "\n",
              "    body-style drive-wheels engine-location  wheel-base  ...  engine-size  \\\n",
              "0  convertible          rwd           front        88.6  ...          130   \n",
              "1  convertible          rwd           front        88.6  ...          130   \n",
              "2    hatchback          rwd           front        94.5  ...          152   \n",
              "3        sedan          fwd           front        99.8  ...          109   \n",
              "4        sedan          4wd           front        99.4  ...          136   \n",
              "\n",
              "   fuel-system  bore  stroke compression-ratio horsepower  peak-rpm city-mpg  \\\n",
              "0         mpfi  3.47    2.68               9.0        111      5000       21   \n",
              "1         mpfi  3.47    2.68               9.0        111      5000       21   \n",
              "2         mpfi  2.68    3.47               9.0        154      5000       19   \n",
              "3         mpfi  3.19    3.40              10.0        102      5500       24   \n",
              "4         mpfi  3.19    3.40               8.0        115      5500       18   \n",
              "\n",
              "  highway-mpg  price  \n",
              "0          27  13495  \n",
              "1          27  16500  \n",
              "2          26  16500  \n",
              "3          30  13950  \n",
              "4          22  17450  \n",
              "\n",
              "[5 rows x 26 columns]"
            ]
          },
          "metadata": {
            "tags": []
          },
          "execution_count": 5
        }
      ]
    },
    {
      "cell_type": "markdown",
      "metadata": {
        "id": "87Tcd1fcKa2x",
        "colab_type": "text"
      },
      "source": [
        "As we can see, several question marks appeared in the dataframe; those are missing values which may hinder our further analysis. \n",
        "<div>So, how do we identify all those missing values and deal with them?</div> \n",
        "\n",
        "\n",
        "<b>How to work with missing data?</b>\n",
        "\n",
        "Steps for working with missing data:\n",
        "<ol>\n",
        "    <li>dentify missing data</li>\n",
        "    <li>deal with missing data</li>\n",
        "    <li>correct data format</li>\n",
        "</ol>"
      ]
    },
    {
      "cell_type": "markdown",
      "metadata": {
        "id": "vYVfhlzAKa2y",
        "colab_type": "text"
      },
      "source": [
        "<h2 id=\"identify_handle_missing_values\">Identify and handle missing values</h2>\n",
        "\n",
        "\n",
        "<h3 id=\"identify_missing_values\">Identify missing values</h3>\n",
        "<h4>Convert \"?\" to NaN</h4>\n",
        "In the car dataset, missing data comes with the question mark \"?\".\n",
        "We replace \"?\" with NaN (Not a Number), which is Python's default missing value marker, for reasons of computational speed and convenience. Here we use the function: \n",
        " <pre>.replace(A, B, inplace = True) </pre>\n",
        "to replace A by B"
      ]
    },
    {
      "cell_type": "code",
      "metadata": {
        "jupyter": {
          "outputs_hidden": false
        },
        "id": "lrcTKtkSKa2y",
        "colab_type": "code",
        "colab": {},
        "outputId": "ab17b8a6-e75a-4bfa-8a1c-9228ff4e4fd5"
      },
      "source": [
        "import numpy as np\n",
        "\n",
        "# replace \"?\" to NaN\n",
        "df.replace(\"?\", np.nan, inplace = True)\n",
        "df.head(5)"
      ],
      "execution_count": 0,
      "outputs": [
        {
          "output_type": "execute_result",
          "data": {
            "text/html": [
              "<div>\n",
              "<style scoped>\n",
              "    .dataframe tbody tr th:only-of-type {\n",
              "        vertical-align: middle;\n",
              "    }\n",
              "\n",
              "    .dataframe tbody tr th {\n",
              "        vertical-align: top;\n",
              "    }\n",
              "\n",
              "    .dataframe thead th {\n",
              "        text-align: right;\n",
              "    }\n",
              "</style>\n",
              "<table border=\"1\" class=\"dataframe\">\n",
              "  <thead>\n",
              "    <tr style=\"text-align: right;\">\n",
              "      <th></th>\n",
              "      <th>symboling</th>\n",
              "      <th>normalized-losses</th>\n",
              "      <th>make</th>\n",
              "      <th>fuel-type</th>\n",
              "      <th>aspiration</th>\n",
              "      <th>num-of-doors</th>\n",
              "      <th>body-style</th>\n",
              "      <th>drive-wheels</th>\n",
              "      <th>engine-location</th>\n",
              "      <th>wheel-base</th>\n",
              "      <th>...</th>\n",
              "      <th>engine-size</th>\n",
              "      <th>fuel-system</th>\n",
              "      <th>bore</th>\n",
              "      <th>stroke</th>\n",
              "      <th>compression-ratio</th>\n",
              "      <th>horsepower</th>\n",
              "      <th>peak-rpm</th>\n",
              "      <th>city-mpg</th>\n",
              "      <th>highway-mpg</th>\n",
              "      <th>price</th>\n",
              "    </tr>\n",
              "  </thead>\n",
              "  <tbody>\n",
              "    <tr>\n",
              "      <th>0</th>\n",
              "      <td>3</td>\n",
              "      <td>NaN</td>\n",
              "      <td>alfa-romero</td>\n",
              "      <td>gas</td>\n",
              "      <td>std</td>\n",
              "      <td>two</td>\n",
              "      <td>convertible</td>\n",
              "      <td>rwd</td>\n",
              "      <td>front</td>\n",
              "      <td>88.6</td>\n",
              "      <td>...</td>\n",
              "      <td>130</td>\n",
              "      <td>mpfi</td>\n",
              "      <td>3.47</td>\n",
              "      <td>2.68</td>\n",
              "      <td>9.0</td>\n",
              "      <td>111</td>\n",
              "      <td>5000</td>\n",
              "      <td>21</td>\n",
              "      <td>27</td>\n",
              "      <td>13495</td>\n",
              "    </tr>\n",
              "    <tr>\n",
              "      <th>1</th>\n",
              "      <td>3</td>\n",
              "      <td>NaN</td>\n",
              "      <td>alfa-romero</td>\n",
              "      <td>gas</td>\n",
              "      <td>std</td>\n",
              "      <td>two</td>\n",
              "      <td>convertible</td>\n",
              "      <td>rwd</td>\n",
              "      <td>front</td>\n",
              "      <td>88.6</td>\n",
              "      <td>...</td>\n",
              "      <td>130</td>\n",
              "      <td>mpfi</td>\n",
              "      <td>3.47</td>\n",
              "      <td>2.68</td>\n",
              "      <td>9.0</td>\n",
              "      <td>111</td>\n",
              "      <td>5000</td>\n",
              "      <td>21</td>\n",
              "      <td>27</td>\n",
              "      <td>16500</td>\n",
              "    </tr>\n",
              "    <tr>\n",
              "      <th>2</th>\n",
              "      <td>1</td>\n",
              "      <td>NaN</td>\n",
              "      <td>alfa-romero</td>\n",
              "      <td>gas</td>\n",
              "      <td>std</td>\n",
              "      <td>two</td>\n",
              "      <td>hatchback</td>\n",
              "      <td>rwd</td>\n",
              "      <td>front</td>\n",
              "      <td>94.5</td>\n",
              "      <td>...</td>\n",
              "      <td>152</td>\n",
              "      <td>mpfi</td>\n",
              "      <td>2.68</td>\n",
              "      <td>3.47</td>\n",
              "      <td>9.0</td>\n",
              "      <td>154</td>\n",
              "      <td>5000</td>\n",
              "      <td>19</td>\n",
              "      <td>26</td>\n",
              "      <td>16500</td>\n",
              "    </tr>\n",
              "    <tr>\n",
              "      <th>3</th>\n",
              "      <td>2</td>\n",
              "      <td>164</td>\n",
              "      <td>audi</td>\n",
              "      <td>gas</td>\n",
              "      <td>std</td>\n",
              "      <td>four</td>\n",
              "      <td>sedan</td>\n",
              "      <td>fwd</td>\n",
              "      <td>front</td>\n",
              "      <td>99.8</td>\n",
              "      <td>...</td>\n",
              "      <td>109</td>\n",
              "      <td>mpfi</td>\n",
              "      <td>3.19</td>\n",
              "      <td>3.40</td>\n",
              "      <td>10.0</td>\n",
              "      <td>102</td>\n",
              "      <td>5500</td>\n",
              "      <td>24</td>\n",
              "      <td>30</td>\n",
              "      <td>13950</td>\n",
              "    </tr>\n",
              "    <tr>\n",
              "      <th>4</th>\n",
              "      <td>2</td>\n",
              "      <td>164</td>\n",
              "      <td>audi</td>\n",
              "      <td>gas</td>\n",
              "      <td>std</td>\n",
              "      <td>four</td>\n",
              "      <td>sedan</td>\n",
              "      <td>4wd</td>\n",
              "      <td>front</td>\n",
              "      <td>99.4</td>\n",
              "      <td>...</td>\n",
              "      <td>136</td>\n",
              "      <td>mpfi</td>\n",
              "      <td>3.19</td>\n",
              "      <td>3.40</td>\n",
              "      <td>8.0</td>\n",
              "      <td>115</td>\n",
              "      <td>5500</td>\n",
              "      <td>18</td>\n",
              "      <td>22</td>\n",
              "      <td>17450</td>\n",
              "    </tr>\n",
              "  </tbody>\n",
              "</table>\n",
              "<p>5 rows × 26 columns</p>\n",
              "</div>"
            ],
            "text/plain": [
              "   symboling normalized-losses         make fuel-type aspiration num-of-doors  \\\n",
              "0          3               NaN  alfa-romero       gas        std          two   \n",
              "1          3               NaN  alfa-romero       gas        std          two   \n",
              "2          1               NaN  alfa-romero       gas        std          two   \n",
              "3          2               164         audi       gas        std         four   \n",
              "4          2               164         audi       gas        std         four   \n",
              "\n",
              "    body-style drive-wheels engine-location  wheel-base  ...  engine-size  \\\n",
              "0  convertible          rwd           front        88.6  ...          130   \n",
              "1  convertible          rwd           front        88.6  ...          130   \n",
              "2    hatchback          rwd           front        94.5  ...          152   \n",
              "3        sedan          fwd           front        99.8  ...          109   \n",
              "4        sedan          4wd           front        99.4  ...          136   \n",
              "\n",
              "   fuel-system  bore  stroke compression-ratio horsepower  peak-rpm city-mpg  \\\n",
              "0         mpfi  3.47    2.68               9.0        111      5000       21   \n",
              "1         mpfi  3.47    2.68               9.0        111      5000       21   \n",
              "2         mpfi  2.68    3.47               9.0        154      5000       19   \n",
              "3         mpfi  3.19    3.40              10.0        102      5500       24   \n",
              "4         mpfi  3.19    3.40               8.0        115      5500       18   \n",
              "\n",
              "  highway-mpg  price  \n",
              "0          27  13495  \n",
              "1          27  16500  \n",
              "2          26  16500  \n",
              "3          30  13950  \n",
              "4          22  17450  \n",
              "\n",
              "[5 rows x 26 columns]"
            ]
          },
          "metadata": {
            "tags": []
          },
          "execution_count": 6
        }
      ]
    },
    {
      "cell_type": "markdown",
      "metadata": {
        "id": "fSCkbSlOKa20",
        "colab_type": "text"
      },
      "source": [
        "dentify_missing_values\n",
        "\n",
        "<h4>Evaluating for Missing Data</h4>\n",
        "\n",
        "The missing values are converted to Python's default. We use Python's built-in functions to identify these missing values. There are two methods to detect missing data:\n",
        "<ol>\n",
        "    <li><b>.isnull()</b></li>\n",
        "    <li><b>.notnull()</b></li>\n",
        "</ol>\n",
        "The output is a boolean value indicating whether the value that is passed into the argument is in fact missing data."
      ]
    },
    {
      "cell_type": "code",
      "metadata": {
        "jupyter": {
          "outputs_hidden": false
        },
        "id": "isLMNCp3Ka21",
        "colab_type": "code",
        "colab": {},
        "outputId": "fd8dda87-b0a1-4b15-de84-7d266e6fd7fc"
      },
      "source": [
        "missing_data = df.isnull()\n",
        "missing_data.head(5)"
      ],
      "execution_count": 0,
      "outputs": [
        {
          "output_type": "execute_result",
          "data": {
            "text/html": [
              "<div>\n",
              "<style scoped>\n",
              "    .dataframe tbody tr th:only-of-type {\n",
              "        vertical-align: middle;\n",
              "    }\n",
              "\n",
              "    .dataframe tbody tr th {\n",
              "        vertical-align: top;\n",
              "    }\n",
              "\n",
              "    .dataframe thead th {\n",
              "        text-align: right;\n",
              "    }\n",
              "</style>\n",
              "<table border=\"1\" class=\"dataframe\">\n",
              "  <thead>\n",
              "    <tr style=\"text-align: right;\">\n",
              "      <th></th>\n",
              "      <th>symboling</th>\n",
              "      <th>normalized-losses</th>\n",
              "      <th>make</th>\n",
              "      <th>fuel-type</th>\n",
              "      <th>aspiration</th>\n",
              "      <th>num-of-doors</th>\n",
              "      <th>body-style</th>\n",
              "      <th>drive-wheels</th>\n",
              "      <th>engine-location</th>\n",
              "      <th>wheel-base</th>\n",
              "      <th>...</th>\n",
              "      <th>engine-size</th>\n",
              "      <th>fuel-system</th>\n",
              "      <th>bore</th>\n",
              "      <th>stroke</th>\n",
              "      <th>compression-ratio</th>\n",
              "      <th>horsepower</th>\n",
              "      <th>peak-rpm</th>\n",
              "      <th>city-mpg</th>\n",
              "      <th>highway-mpg</th>\n",
              "      <th>price</th>\n",
              "    </tr>\n",
              "  </thead>\n",
              "  <tbody>\n",
              "    <tr>\n",
              "      <th>0</th>\n",
              "      <td>False</td>\n",
              "      <td>True</td>\n",
              "      <td>False</td>\n",
              "      <td>False</td>\n",
              "      <td>False</td>\n",
              "      <td>False</td>\n",
              "      <td>False</td>\n",
              "      <td>False</td>\n",
              "      <td>False</td>\n",
              "      <td>False</td>\n",
              "      <td>...</td>\n",
              "      <td>False</td>\n",
              "      <td>False</td>\n",
              "      <td>False</td>\n",
              "      <td>False</td>\n",
              "      <td>False</td>\n",
              "      <td>False</td>\n",
              "      <td>False</td>\n",
              "      <td>False</td>\n",
              "      <td>False</td>\n",
              "      <td>False</td>\n",
              "    </tr>\n",
              "    <tr>\n",
              "      <th>1</th>\n",
              "      <td>False</td>\n",
              "      <td>True</td>\n",
              "      <td>False</td>\n",
              "      <td>False</td>\n",
              "      <td>False</td>\n",
              "      <td>False</td>\n",
              "      <td>False</td>\n",
              "      <td>False</td>\n",
              "      <td>False</td>\n",
              "      <td>False</td>\n",
              "      <td>...</td>\n",
              "      <td>False</td>\n",
              "      <td>False</td>\n",
              "      <td>False</td>\n",
              "      <td>False</td>\n",
              "      <td>False</td>\n",
              "      <td>False</td>\n",
              "      <td>False</td>\n",
              "      <td>False</td>\n",
              "      <td>False</td>\n",
              "      <td>False</td>\n",
              "    </tr>\n",
              "    <tr>\n",
              "      <th>2</th>\n",
              "      <td>False</td>\n",
              "      <td>True</td>\n",
              "      <td>False</td>\n",
              "      <td>False</td>\n",
              "      <td>False</td>\n",
              "      <td>False</td>\n",
              "      <td>False</td>\n",
              "      <td>False</td>\n",
              "      <td>False</td>\n",
              "      <td>False</td>\n",
              "      <td>...</td>\n",
              "      <td>False</td>\n",
              "      <td>False</td>\n",
              "      <td>False</td>\n",
              "      <td>False</td>\n",
              "      <td>False</td>\n",
              "      <td>False</td>\n",
              "      <td>False</td>\n",
              "      <td>False</td>\n",
              "      <td>False</td>\n",
              "      <td>False</td>\n",
              "    </tr>\n",
              "    <tr>\n",
              "      <th>3</th>\n",
              "      <td>False</td>\n",
              "      <td>False</td>\n",
              "      <td>False</td>\n",
              "      <td>False</td>\n",
              "      <td>False</td>\n",
              "      <td>False</td>\n",
              "      <td>False</td>\n",
              "      <td>False</td>\n",
              "      <td>False</td>\n",
              "      <td>False</td>\n",
              "      <td>...</td>\n",
              "      <td>False</td>\n",
              "      <td>False</td>\n",
              "      <td>False</td>\n",
              "      <td>False</td>\n",
              "      <td>False</td>\n",
              "      <td>False</td>\n",
              "      <td>False</td>\n",
              "      <td>False</td>\n",
              "      <td>False</td>\n",
              "      <td>False</td>\n",
              "    </tr>\n",
              "    <tr>\n",
              "      <th>4</th>\n",
              "      <td>False</td>\n",
              "      <td>False</td>\n",
              "      <td>False</td>\n",
              "      <td>False</td>\n",
              "      <td>False</td>\n",
              "      <td>False</td>\n",
              "      <td>False</td>\n",
              "      <td>False</td>\n",
              "      <td>False</td>\n",
              "      <td>False</td>\n",
              "      <td>...</td>\n",
              "      <td>False</td>\n",
              "      <td>False</td>\n",
              "      <td>False</td>\n",
              "      <td>False</td>\n",
              "      <td>False</td>\n",
              "      <td>False</td>\n",
              "      <td>False</td>\n",
              "      <td>False</td>\n",
              "      <td>False</td>\n",
              "      <td>False</td>\n",
              "    </tr>\n",
              "  </tbody>\n",
              "</table>\n",
              "<p>5 rows × 26 columns</p>\n",
              "</div>"
            ],
            "text/plain": [
              "   symboling  normalized-losses   make  fuel-type  aspiration  num-of-doors  \\\n",
              "0      False               True  False      False       False         False   \n",
              "1      False               True  False      False       False         False   \n",
              "2      False               True  False      False       False         False   \n",
              "3      False              False  False      False       False         False   \n",
              "4      False              False  False      False       False         False   \n",
              "\n",
              "   body-style  drive-wheels  engine-location  wheel-base  ...  engine-size  \\\n",
              "0       False         False            False       False  ...        False   \n",
              "1       False         False            False       False  ...        False   \n",
              "2       False         False            False       False  ...        False   \n",
              "3       False         False            False       False  ...        False   \n",
              "4       False         False            False       False  ...        False   \n",
              "\n",
              "   fuel-system   bore  stroke  compression-ratio  horsepower  peak-rpm  \\\n",
              "0        False  False   False              False       False     False   \n",
              "1        False  False   False              False       False     False   \n",
              "2        False  False   False              False       False     False   \n",
              "3        False  False   False              False       False     False   \n",
              "4        False  False   False              False       False     False   \n",
              "\n",
              "   city-mpg  highway-mpg  price  \n",
              "0     False        False  False  \n",
              "1     False        False  False  \n",
              "2     False        False  False  \n",
              "3     False        False  False  \n",
              "4     False        False  False  \n",
              "\n",
              "[5 rows x 26 columns]"
            ]
          },
          "metadata": {
            "tags": []
          },
          "execution_count": 7
        }
      ]
    },
    {
      "cell_type": "markdown",
      "metadata": {
        "id": "bW2LnFY_Ka24",
        "colab_type": "text"
      },
      "source": [
        "\"True\" stands for missing value, while \"False\" stands for not missing value."
      ]
    },
    {
      "cell_type": "markdown",
      "metadata": {
        "id": "QsiiBSz7Ka25",
        "colab_type": "text"
      },
      "source": [
        "<h4>Count missing values in each column</h4>\n",
        "<p>\n",
        "Using a for loop in Python, we can quickly figure out the number of missing values in each column. As mentioned above, \"True\" represents a missing value, \"False\"  means the value is present in the dataset.  In the body of the for loop the method  \".value_counts()\"  counts the number of \"True\" values. \n",
        "</p>"
      ]
    },
    {
      "cell_type": "code",
      "metadata": {
        "jupyter": {
          "outputs_hidden": false
        },
        "id": "obP_5dlAKa26",
        "colab_type": "code",
        "colab": {},
        "outputId": "4103d2d9-f91e-4583-f584-7a3e586123dd"
      },
      "source": [
        "for column in missing_data.columns.values.tolist():\n",
        "    print(column)\n",
        "    print (missing_data[column].value_counts())\n",
        "    print(\"\")    "
      ],
      "execution_count": 0,
      "outputs": [
        {
          "output_type": "stream",
          "text": [
            "symboling\n",
            "False    205\n",
            "Name: symboling, dtype: int64\n",
            "\n",
            "normalized-losses\n",
            "False    164\n",
            "True      41\n",
            "Name: normalized-losses, dtype: int64\n",
            "\n",
            "make\n",
            "False    205\n",
            "Name: make, dtype: int64\n",
            "\n",
            "fuel-type\n",
            "False    205\n",
            "Name: fuel-type, dtype: int64\n",
            "\n",
            "aspiration\n",
            "False    205\n",
            "Name: aspiration, dtype: int64\n",
            "\n",
            "num-of-doors\n",
            "False    203\n",
            "True       2\n",
            "Name: num-of-doors, dtype: int64\n",
            "\n",
            "body-style\n",
            "False    205\n",
            "Name: body-style, dtype: int64\n",
            "\n",
            "drive-wheels\n",
            "False    205\n",
            "Name: drive-wheels, dtype: int64\n",
            "\n",
            "engine-location\n",
            "False    205\n",
            "Name: engine-location, dtype: int64\n",
            "\n",
            "wheel-base\n",
            "False    205\n",
            "Name: wheel-base, dtype: int64\n",
            "\n",
            "length\n",
            "False    205\n",
            "Name: length, dtype: int64\n",
            "\n",
            "width\n",
            "False    205\n",
            "Name: width, dtype: int64\n",
            "\n",
            "height\n",
            "False    205\n",
            "Name: height, dtype: int64\n",
            "\n",
            "curb-weight\n",
            "False    205\n",
            "Name: curb-weight, dtype: int64\n",
            "\n",
            "engine-type\n",
            "False    205\n",
            "Name: engine-type, dtype: int64\n",
            "\n",
            "num-of-cylinders\n",
            "False    205\n",
            "Name: num-of-cylinders, dtype: int64\n",
            "\n",
            "engine-size\n",
            "False    205\n",
            "Name: engine-size, dtype: int64\n",
            "\n",
            "fuel-system\n",
            "False    205\n",
            "Name: fuel-system, dtype: int64\n",
            "\n",
            "bore\n",
            "False    201\n",
            "True       4\n",
            "Name: bore, dtype: int64\n",
            "\n",
            "stroke\n",
            "False    201\n",
            "True       4\n",
            "Name: stroke, dtype: int64\n",
            "\n",
            "compression-ratio\n",
            "False    205\n",
            "Name: compression-ratio, dtype: int64\n",
            "\n",
            "horsepower\n",
            "False    203\n",
            "True       2\n",
            "Name: horsepower, dtype: int64\n",
            "\n",
            "peak-rpm\n",
            "False    203\n",
            "True       2\n",
            "Name: peak-rpm, dtype: int64\n",
            "\n",
            "city-mpg\n",
            "False    205\n",
            "Name: city-mpg, dtype: int64\n",
            "\n",
            "highway-mpg\n",
            "False    205\n",
            "Name: highway-mpg, dtype: int64\n",
            "\n",
            "price\n",
            "False    201\n",
            "True       4\n",
            "Name: price, dtype: int64\n",
            "\n"
          ],
          "name": "stdout"
        }
      ]
    },
    {
      "cell_type": "markdown",
      "metadata": {
        "id": "CZ7iMSI6Ka28",
        "colab_type": "text"
      },
      "source": [
        "Based on the summary above, each column has 205 rows of data, seven columns containing missing data:\n",
        "<ol>\n",
        "    <li>\"normalized-losses\": 41 missing data</li>\n",
        "    <li>\"num-of-doors\": 2 missing data</li>\n",
        "    <li>\"bore\": 4 missing data</li>\n",
        "    <li>\"stroke\" : 4 missing data</li>\n",
        "    <li>\"horsepower\": 2 missing data</li>\n",
        "    <li>\"peak-rpm\": 2 missing data</li>\n",
        "    <li>\"price\": 4 missing data</li>\n",
        "</ol>"
      ]
    },
    {
      "cell_type": "markdown",
      "metadata": {
        "id": "6eCH72SKKa29",
        "colab_type": "text"
      },
      "source": [
        "<h3 id=\"deal_missing_values\">Deal with missing data</h3>\n",
        "<b>How to deal with missing data?</b>\n",
        "\n",
        "<ol>\n",
        "    <li>drop data<br>\n",
        "        a. drop the whole row<br>\n",
        "        b. drop the whole column\n",
        "    </li>\n",
        "    <li>replace data<br>\n",
        "        a. replace it by mean<br>\n",
        "        b. replace it by frequency<br>\n",
        "        c. replace it based on other functions\n",
        "    </li>\n",
        "</ol>"
      ]
    },
    {
      "cell_type": "markdown",
      "metadata": {
        "id": "ZKoupcQMKa29",
        "colab_type": "text"
      },
      "source": [
        "Whole columns should be dropped only if most entries in the column are empty. In our dataset, none of the columns are empty enough to drop entirely.\n",
        "We have some freedom in choosing which method to replace data; however, some methods may seem more reasonable than others. We will apply each method to many different columns:\n",
        "\n",
        "<b>Replace by mean:</b>\n",
        "<ul>\n",
        "    <li>\"normalized-losses\": 41 missing data, replace them with mean</li>\n",
        "    <li>\"stroke\": 4 missing data, replace them with mean</li>\n",
        "    <li>\"bore\": 4 missing data, replace them with mean</li>\n",
        "    <li>\"horsepower\": 2 missing data, replace them with mean</li>\n",
        "    <li>\"peak-rpm\": 2 missing data, replace them with mean</li>\n",
        "</ul>\n",
        "\n",
        "<b>Replace by frequency:</b>\n",
        "<ul>\n",
        "    <li>\"num-of-doors\": 2 missing data, replace them with \"four\". \n",
        "        <ul>\n",
        "            <li>Reason: 84% sedans is four doors. Since four doors is most frequent, it is most likely to occur</li>\n",
        "        </ul>\n",
        "    </li>\n",
        "</ul>\n",
        "\n",
        "<b>Drop the whole row:</b>\n",
        "<ul>\n",
        "    <li>\"price\": 4 missing data, simply delete the whole row\n",
        "        <ul>\n",
        "            <li>Reason: price is what we want to predict. Any data entry without price data cannot be used for prediction; therefore any row now without price data is not useful to us</li>\n",
        "        </ul>\n",
        "    </li>\n",
        "</ul>"
      ]
    },
    {
      "cell_type": "markdown",
      "metadata": {
        "id": "P7zr7by1Ka2_",
        "colab_type": "text"
      },
      "source": [
        "<h4>Calculate the average of the column </h4>"
      ]
    },
    {
      "cell_type": "code",
      "metadata": {
        "jupyter": {
          "outputs_hidden": false
        },
        "id": "-xYXb4f3Ka2_",
        "colab_type": "code",
        "colab": {},
        "outputId": "35d5ca1b-e231-4f0d-cb3b-b3408f0e7df0"
      },
      "source": [
        "avg_norm_loss = df[\"normalized-losses\"].astype(\"float\").mean(axis=0)\n",
        "print(\"Average of normalized-losses:\", avg_norm_loss)"
      ],
      "execution_count": 0,
      "outputs": [
        {
          "output_type": "stream",
          "text": [
            "Average of normalized-losses: 122.0\n"
          ],
          "name": "stdout"
        }
      ]
    },
    {
      "cell_type": "markdown",
      "metadata": {
        "id": "y7qfuzQaKa3B",
        "colab_type": "text"
      },
      "source": [
        "<h4>Replace \"NaN\" by mean value in \"normalized-losses\" column</h4>"
      ]
    },
    {
      "cell_type": "code",
      "metadata": {
        "id": "EyyDDQNiKa3C",
        "colab_type": "code",
        "colab": {}
      },
      "source": [
        "df[\"normalized-losses\"].replace(np.nan, avg_norm_loss, inplace=True)"
      ],
      "execution_count": 0,
      "outputs": []
    },
    {
      "cell_type": "markdown",
      "metadata": {
        "id": "zjWIWDzdKa3D",
        "colab_type": "text"
      },
      "source": [
        "<h4>Calculate the mean value for 'bore' column</h4>"
      ]
    },
    {
      "cell_type": "code",
      "metadata": {
        "id": "IO_S8UXvKa3E",
        "colab_type": "code",
        "colab": {},
        "outputId": "a60e0649-847f-4b26-e809-f0ae9d87a9aa"
      },
      "source": [
        "avg_bore=df['bore'].astype('float').mean(axis=0)\n",
        "print(\"Average of bore:\", avg_bore)"
      ],
      "execution_count": 0,
      "outputs": [
        {
          "output_type": "stream",
          "text": [
            "Average of bore: 3.3297512437810943\n"
          ],
          "name": "stdout"
        }
      ]
    },
    {
      "cell_type": "markdown",
      "metadata": {
        "id": "yk22GYjIKa3G",
        "colab_type": "text"
      },
      "source": [
        "<h4>Replace NaN by mean value</h4>"
      ]
    },
    {
      "cell_type": "code",
      "metadata": {
        "id": "lI4JenJuKa3G",
        "colab_type": "code",
        "colab": {}
      },
      "source": [
        "df[\"bore\"].replace(np.nan, avg_bore, inplace=True)"
      ],
      "execution_count": 0,
      "outputs": []
    },
    {
      "cell_type": "markdown",
      "metadata": {
        "id": "iAsQMvxlKa3I",
        "colab_type": "text"
      },
      "source": [
        "<div class=\"alert alert-danger alertdanger\" style=\"margin-top: 20px\">\n",
        "<h1> Question  #1: </h1>\n",
        "\n",
        "<b>According to the example above, replace NaN in \"stroke\" column by mean.</b>\n",
        "</div>"
      ]
    },
    {
      "cell_type": "code",
      "metadata": {
        "jupyter": {
          "outputs_hidden": false
        },
        "id": "0RvuslAXKa3J",
        "colab_type": "code",
        "colab": {},
        "outputId": "df0466fc-33c9-4c65-ff8b-1931f2e18c04"
      },
      "source": [
        "# Write your code below and press Shift+Enter to execute \n",
        "avg_stroke=df['stroke'].astype('float').mean(axis=0)\n",
        "print(\"Average of Stroke:\", avg_stroke)\n",
        "\n",
        "df[\"stroke\"].replace(np.nan, avg_stroke, inplace=True)\n"
      ],
      "execution_count": 0,
      "outputs": [
        {
          "output_type": "stream",
          "text": [
            "Average of Stroke: 3.255422885572139\n"
          ],
          "name": "stdout"
        }
      ]
    },
    {
      "cell_type": "markdown",
      "metadata": {
        "id": "2BhbYhPWKa3L",
        "colab_type": "text"
      },
      "source": [
        "Double-click <b>here</b> for the solution.\n",
        "\n",
        "<!-- The answer is below:\n",
        "\n",
        "# calculate the mean vaule for \"stroke\" column\n",
        "avg_stroke = df[\"stroke\"].astype(\"float\").mean(axis = 0)\n",
        "print(\"Average of stroke:\", avg_stroke)\n",
        "\n",
        "# replace NaN by mean value in \"stroke\" column\n",
        "df[\"stroke\"].replace(np.nan, avg_stroke, inplace = True)\n",
        "\n",
        "-->\n"
      ]
    },
    {
      "cell_type": "markdown",
      "metadata": {
        "id": "K0yXeYheKa3L",
        "colab_type": "text"
      },
      "source": [
        "<h4>Calculate the mean value for the  'horsepower' column:</h4>"
      ]
    },
    {
      "cell_type": "code",
      "metadata": {
        "id": "PpMdhDk5Ka3M",
        "colab_type": "code",
        "colab": {},
        "outputId": "779b5330-89c1-4160-d265-d857210052be"
      },
      "source": [
        "avg_horsepower = df['horsepower'].astype('float').mean(axis=0)\n",
        "print(\"Average horsepower:\", avg_horsepower)"
      ],
      "execution_count": 0,
      "outputs": [
        {
          "output_type": "stream",
          "text": [
            "Average horsepower: 104.25615763546797\n"
          ],
          "name": "stdout"
        }
      ]
    },
    {
      "cell_type": "markdown",
      "metadata": {
        "id": "25A9-DDdKa3O",
        "colab_type": "text"
      },
      "source": [
        "<h4>Replace \"NaN\" by mean value:</h4>"
      ]
    },
    {
      "cell_type": "code",
      "metadata": {
        "id": "IPsvPMBIKa3O",
        "colab_type": "code",
        "colab": {}
      },
      "source": [
        "df['horsepower'].replace(np.nan, avg_horsepower, inplace=True)\n"
      ],
      "execution_count": 0,
      "outputs": []
    },
    {
      "cell_type": "markdown",
      "metadata": {
        "id": "JzzY3SPiKa3Q",
        "colab_type": "text"
      },
      "source": [
        "<h4>Calculate the mean value for 'peak-rpm' column:</h4>"
      ]
    },
    {
      "cell_type": "code",
      "metadata": {
        "id": "ij5Mia9NKa3Q",
        "colab_type": "code",
        "colab": {},
        "outputId": "04b0ff86-51c9-413d-f3e3-0a5712790b0c"
      },
      "source": [
        "avg_peakrpm=df['peak-rpm'].astype('float').mean(axis=0)\n",
        "print(\"Average peak rpm:\", avg_peakrpm)"
      ],
      "execution_count": 0,
      "outputs": [
        {
          "output_type": "stream",
          "text": [
            "Average peak rpm: 5125.369458128079\n"
          ],
          "name": "stdout"
        }
      ]
    },
    {
      "cell_type": "markdown",
      "metadata": {
        "id": "6y7OVFpHKa3S",
        "colab_type": "text"
      },
      "source": [
        "<h4>Replace NaN by mean value:</h4>"
      ]
    },
    {
      "cell_type": "code",
      "metadata": {
        "id": "6c-6TtbtKa3S",
        "colab_type": "code",
        "colab": {}
      },
      "source": [
        "df['peak-rpm'].replace(np.nan, avg_peakrpm, inplace=True)"
      ],
      "execution_count": 0,
      "outputs": []
    },
    {
      "cell_type": "markdown",
      "metadata": {
        "id": "LH1lKhb3Ka3U",
        "colab_type": "text"
      },
      "source": [
        "To see which values are present in a particular column, we can use the \".value_counts()\" method:"
      ]
    },
    {
      "cell_type": "code",
      "metadata": {
        "jupyter": {
          "outputs_hidden": false
        },
        "id": "bXbMJ7DEKa3U",
        "colab_type": "code",
        "colab": {},
        "outputId": "797d6fc0-7322-4c9c-e5ff-f88df6ae6af6"
      },
      "source": [
        "df['num-of-doors'].value_counts()"
      ],
      "execution_count": 0,
      "outputs": [
        {
          "output_type": "execute_result",
          "data": {
            "text/plain": [
              "four    114\n",
              "two      89\n",
              "Name: num-of-doors, dtype: int64"
            ]
          },
          "metadata": {
            "tags": []
          },
          "execution_count": 25
        }
      ]
    },
    {
      "cell_type": "markdown",
      "metadata": {
        "id": "cf6S4ZZyKa3Y",
        "colab_type": "text"
      },
      "source": [
        "We can see that four doors are the most common type. We can also use the \".idxmax()\" method to calculate for us the most common type automatically:"
      ]
    },
    {
      "cell_type": "code",
      "metadata": {
        "jupyter": {
          "outputs_hidden": false
        },
        "id": "3cdD_akPKa3Y",
        "colab_type": "code",
        "colab": {},
        "outputId": "c078083a-e3fa-42e5-d0cb-b4d8594569d1"
      },
      "source": [
        "df['num-of-doors'].value_counts().idxmax()"
      ],
      "execution_count": 0,
      "outputs": [
        {
          "output_type": "execute_result",
          "data": {
            "text/plain": [
              "'four'"
            ]
          },
          "metadata": {
            "tags": []
          },
          "execution_count": 26
        }
      ]
    },
    {
      "cell_type": "markdown",
      "metadata": {
        "id": "-es2QGHQKa3a",
        "colab_type": "text"
      },
      "source": [
        "The replacement procedure is very similar to what we have seen previously"
      ]
    },
    {
      "cell_type": "code",
      "metadata": {
        "jupyter": {
          "outputs_hidden": false
        },
        "id": "-96g5QNsKa3a",
        "colab_type": "code",
        "colab": {}
      },
      "source": [
        "#replace the missing 'num-of-doors' values by the most frequent \n",
        "df[\"num-of-doors\"].replace(np.nan, \"four\", inplace=True)"
      ],
      "execution_count": 0,
      "outputs": []
    },
    {
      "cell_type": "markdown",
      "metadata": {
        "id": "Q9YJ5St_Ka3c",
        "colab_type": "text"
      },
      "source": [
        "Finally, let's drop all rows that do not have price data:"
      ]
    },
    {
      "cell_type": "code",
      "metadata": {
        "id": "FNEuof3NKa3c",
        "colab_type": "code",
        "colab": {}
      },
      "source": [
        "# simply drop whole row with NaN in \"price\" column\n",
        "df.dropna(subset=[\"price\"], axis=0, inplace=True)\n",
        "\n",
        "# reset index, because we droped two rows\n",
        "df.reset_index(drop=True, inplace=True)"
      ],
      "execution_count": 0,
      "outputs": []
    },
    {
      "cell_type": "code",
      "metadata": {
        "jupyter": {
          "outputs_hidden": false
        },
        "id": "IyRBqKqNKa3f",
        "colab_type": "code",
        "colab": {},
        "outputId": "ee060a5e-21a1-4cc6-c973-80b969d48cb1"
      },
      "source": [
        "df.head()"
      ],
      "execution_count": 0,
      "outputs": [
        {
          "output_type": "execute_result",
          "data": {
            "text/html": [
              "<div>\n",
              "<style scoped>\n",
              "    .dataframe tbody tr th:only-of-type {\n",
              "        vertical-align: middle;\n",
              "    }\n",
              "\n",
              "    .dataframe tbody tr th {\n",
              "        vertical-align: top;\n",
              "    }\n",
              "\n",
              "    .dataframe thead th {\n",
              "        text-align: right;\n",
              "    }\n",
              "</style>\n",
              "<table border=\"1\" class=\"dataframe\">\n",
              "  <thead>\n",
              "    <tr style=\"text-align: right;\">\n",
              "      <th></th>\n",
              "      <th>symboling</th>\n",
              "      <th>normalized-losses</th>\n",
              "      <th>make</th>\n",
              "      <th>fuel-type</th>\n",
              "      <th>aspiration</th>\n",
              "      <th>num-of-doors</th>\n",
              "      <th>body-style</th>\n",
              "      <th>drive-wheels</th>\n",
              "      <th>engine-location</th>\n",
              "      <th>wheel-base</th>\n",
              "      <th>...</th>\n",
              "      <th>engine-size</th>\n",
              "      <th>fuel-system</th>\n",
              "      <th>bore</th>\n",
              "      <th>stroke</th>\n",
              "      <th>compression-ratio</th>\n",
              "      <th>horsepower</th>\n",
              "      <th>peak-rpm</th>\n",
              "      <th>city-mpg</th>\n",
              "      <th>highway-mpg</th>\n",
              "      <th>price</th>\n",
              "    </tr>\n",
              "  </thead>\n",
              "  <tbody>\n",
              "    <tr>\n",
              "      <th>0</th>\n",
              "      <td>3</td>\n",
              "      <td>122</td>\n",
              "      <td>alfa-romero</td>\n",
              "      <td>gas</td>\n",
              "      <td>std</td>\n",
              "      <td>two</td>\n",
              "      <td>convertible</td>\n",
              "      <td>rwd</td>\n",
              "      <td>front</td>\n",
              "      <td>88.6</td>\n",
              "      <td>...</td>\n",
              "      <td>130</td>\n",
              "      <td>mpfi</td>\n",
              "      <td>3.47</td>\n",
              "      <td>2.68</td>\n",
              "      <td>9.0</td>\n",
              "      <td>111</td>\n",
              "      <td>5000</td>\n",
              "      <td>21</td>\n",
              "      <td>27</td>\n",
              "      <td>13495</td>\n",
              "    </tr>\n",
              "    <tr>\n",
              "      <th>1</th>\n",
              "      <td>3</td>\n",
              "      <td>122</td>\n",
              "      <td>alfa-romero</td>\n",
              "      <td>gas</td>\n",
              "      <td>std</td>\n",
              "      <td>two</td>\n",
              "      <td>convertible</td>\n",
              "      <td>rwd</td>\n",
              "      <td>front</td>\n",
              "      <td>88.6</td>\n",
              "      <td>...</td>\n",
              "      <td>130</td>\n",
              "      <td>mpfi</td>\n",
              "      <td>3.47</td>\n",
              "      <td>2.68</td>\n",
              "      <td>9.0</td>\n",
              "      <td>111</td>\n",
              "      <td>5000</td>\n",
              "      <td>21</td>\n",
              "      <td>27</td>\n",
              "      <td>16500</td>\n",
              "    </tr>\n",
              "    <tr>\n",
              "      <th>2</th>\n",
              "      <td>1</td>\n",
              "      <td>122</td>\n",
              "      <td>alfa-romero</td>\n",
              "      <td>gas</td>\n",
              "      <td>std</td>\n",
              "      <td>two</td>\n",
              "      <td>hatchback</td>\n",
              "      <td>rwd</td>\n",
              "      <td>front</td>\n",
              "      <td>94.5</td>\n",
              "      <td>...</td>\n",
              "      <td>152</td>\n",
              "      <td>mpfi</td>\n",
              "      <td>2.68</td>\n",
              "      <td>3.47</td>\n",
              "      <td>9.0</td>\n",
              "      <td>154</td>\n",
              "      <td>5000</td>\n",
              "      <td>19</td>\n",
              "      <td>26</td>\n",
              "      <td>16500</td>\n",
              "    </tr>\n",
              "    <tr>\n",
              "      <th>3</th>\n",
              "      <td>2</td>\n",
              "      <td>164</td>\n",
              "      <td>audi</td>\n",
              "      <td>gas</td>\n",
              "      <td>std</td>\n",
              "      <td>four</td>\n",
              "      <td>sedan</td>\n",
              "      <td>fwd</td>\n",
              "      <td>front</td>\n",
              "      <td>99.8</td>\n",
              "      <td>...</td>\n",
              "      <td>109</td>\n",
              "      <td>mpfi</td>\n",
              "      <td>3.19</td>\n",
              "      <td>3.40</td>\n",
              "      <td>10.0</td>\n",
              "      <td>102</td>\n",
              "      <td>5500</td>\n",
              "      <td>24</td>\n",
              "      <td>30</td>\n",
              "      <td>13950</td>\n",
              "    </tr>\n",
              "    <tr>\n",
              "      <th>4</th>\n",
              "      <td>2</td>\n",
              "      <td>164</td>\n",
              "      <td>audi</td>\n",
              "      <td>gas</td>\n",
              "      <td>std</td>\n",
              "      <td>four</td>\n",
              "      <td>sedan</td>\n",
              "      <td>4wd</td>\n",
              "      <td>front</td>\n",
              "      <td>99.4</td>\n",
              "      <td>...</td>\n",
              "      <td>136</td>\n",
              "      <td>mpfi</td>\n",
              "      <td>3.19</td>\n",
              "      <td>3.40</td>\n",
              "      <td>8.0</td>\n",
              "      <td>115</td>\n",
              "      <td>5500</td>\n",
              "      <td>18</td>\n",
              "      <td>22</td>\n",
              "      <td>17450</td>\n",
              "    </tr>\n",
              "  </tbody>\n",
              "</table>\n",
              "<p>5 rows × 26 columns</p>\n",
              "</div>"
            ],
            "text/plain": [
              "   symboling normalized-losses         make fuel-type aspiration num-of-doors  \\\n",
              "0          3               122  alfa-romero       gas        std          two   \n",
              "1          3               122  alfa-romero       gas        std          two   \n",
              "2          1               122  alfa-romero       gas        std          two   \n",
              "3          2               164         audi       gas        std         four   \n",
              "4          2               164         audi       gas        std         four   \n",
              "\n",
              "    body-style drive-wheels engine-location  wheel-base  ...  engine-size  \\\n",
              "0  convertible          rwd           front        88.6  ...          130   \n",
              "1  convertible          rwd           front        88.6  ...          130   \n",
              "2    hatchback          rwd           front        94.5  ...          152   \n",
              "3        sedan          fwd           front        99.8  ...          109   \n",
              "4        sedan          4wd           front        99.4  ...          136   \n",
              "\n",
              "   fuel-system  bore  stroke compression-ratio horsepower  peak-rpm city-mpg  \\\n",
              "0         mpfi  3.47    2.68               9.0        111      5000       21   \n",
              "1         mpfi  3.47    2.68               9.0        111      5000       21   \n",
              "2         mpfi  2.68    3.47               9.0        154      5000       19   \n",
              "3         mpfi  3.19    3.40              10.0        102      5500       24   \n",
              "4         mpfi  3.19    3.40               8.0        115      5500       18   \n",
              "\n",
              "  highway-mpg  price  \n",
              "0          27  13495  \n",
              "1          27  16500  \n",
              "2          26  16500  \n",
              "3          30  13950  \n",
              "4          22  17450  \n",
              "\n",
              "[5 rows x 26 columns]"
            ]
          },
          "metadata": {
            "tags": []
          },
          "execution_count": 29
        }
      ]
    },
    {
      "cell_type": "markdown",
      "metadata": {
        "id": "WTUnji2dKa3g",
        "colab_type": "text"
      },
      "source": [
        "<b>Good!</b> Now, we obtain the dataset with no missing values."
      ]
    },
    {
      "cell_type": "markdown",
      "metadata": {
        "id": "uC6b5G7zKa3h",
        "colab_type": "text"
      },
      "source": [
        "<h3 id=\"correct_data_format\">Correct data format</h3>\n",
        "<b>We are almost there!</b>\n",
        "<p>The last step in data cleaning is checking and making sure that all data is in the correct format (int, float, text or other).</p>\n",
        "\n",
        "In Pandas, we use \n",
        "<p><b>.dtype()</b> to check the data type</p>\n",
        "<p><b>.astype()</b> to change the data type</p>"
      ]
    },
    {
      "cell_type": "markdown",
      "metadata": {
        "id": "6o_S8tcrKa3h",
        "colab_type": "text"
      },
      "source": [
        "<h4>Lets list the data types for each column</h4>"
      ]
    },
    {
      "cell_type": "code",
      "metadata": {
        "jupyter": {
          "outputs_hidden": false
        },
        "id": "yqF9-mDRKa3i",
        "colab_type": "code",
        "colab": {}
      },
      "source": [
        "df.dtypes"
      ],
      "execution_count": 0,
      "outputs": []
    },
    {
      "cell_type": "markdown",
      "metadata": {
        "id": "AN6pPX4DKa3k",
        "colab_type": "text"
      },
      "source": [
        "<p>As we can see above, some columns are not of the correct data type. Numerical variables should have type 'float' or 'int', and variables with strings such as categories should have type 'object'. For example, 'bore' and 'stroke' variables are numerical values that describe the engines, so we should expect them to be of the type 'float' or 'int'; however, they are shown as type 'object'. We have to convert data types into a proper format for each column using the \"astype()\" method.</p> "
      ]
    },
    {
      "cell_type": "markdown",
      "metadata": {
        "id": "WhUfkXioKa3k",
        "colab_type": "text"
      },
      "source": [
        "<h4>Convert data types to proper format</h4>"
      ]
    },
    {
      "cell_type": "code",
      "metadata": {
        "jupyter": {
          "outputs_hidden": false
        },
        "id": "kPuxQmzdKa3k",
        "colab_type": "code",
        "colab": {}
      },
      "source": [
        "df[[\"bore\", \"stroke\"]] = df[[\"bore\", \"stroke\"]].astype(\"float\")\n",
        "df[[\"normalized-losses\"]] = df[[\"normalized-losses\"]].astype(\"int\")\n",
        "df[[\"price\"]] = df[[\"price\"]].astype(\"float\")\n",
        "df[[\"peak-rpm\"]] = df[[\"peak-rpm\"]].astype(\"float\")"
      ],
      "execution_count": 0,
      "outputs": []
    },
    {
      "cell_type": "markdown",
      "metadata": {
        "id": "Iy6MOcTNKa3n",
        "colab_type": "text"
      },
      "source": [
        "<h4>Let us list the columns after the conversion</h4>"
      ]
    },
    {
      "cell_type": "code",
      "metadata": {
        "jupyter": {
          "outputs_hidden": false
        },
        "id": "qcLTf2GuKa3n",
        "colab_type": "code",
        "colab": {}
      },
      "source": [
        "df.dtypes"
      ],
      "execution_count": 0,
      "outputs": []
    },
    {
      "cell_type": "markdown",
      "metadata": {
        "id": "eXpDLFViKa3p",
        "colab_type": "text"
      },
      "source": [
        "<b>Wonderful!</b>\n",
        "\n",
        "Now, we finally obtain the cleaned dataset with no missing values and all data in its proper format."
      ]
    },
    {
      "cell_type": "markdown",
      "metadata": {
        "id": "jGI5pqoMKa3p",
        "colab_type": "text"
      },
      "source": [
        "<h2 id=\"data_standardization\">Data Standardization</h2>\n",
        "<p>\n",
        "Data is usually collected from different agencies with different formats.\n",
        "(Data Standardization is also a term for a particular type of data normalization, where we subtract the mean and divide by the standard deviation)\n",
        "</p>\n",
        "    \n",
        "<b>What is Standardization?</b>\n",
        "<p>Standardization is the process of transforming data into a common format which allows the researcher to make the meaningful comparison.\n",
        "</p>\n",
        "\n",
        "<b>Example</b>\n",
        "<p>Transform mpg to L/100km:</p>\n",
        "<p>In our dataset, the fuel consumption columns \"city-mpg\" and \"highway-mpg\" are represented by mpg (miles per gallon) unit. Assume we are developing an application in a country that accept the fuel consumption with L/100km standard</p>\n",
        "<p>We will need to apply <b>data transformation</b> to transform mpg into L/100km?</p>\n"
      ]
    },
    {
      "cell_type": "markdown",
      "metadata": {
        "id": "GhFBiw4GKa3q",
        "colab_type": "text"
      },
      "source": [
        "<p>The formula for unit conversion is<p>\n",
        "L/100km = 235 / mpg\n",
        "<p>We can do many mathematical operations directly in Pandas.</p>"
      ]
    },
    {
      "cell_type": "code",
      "metadata": {
        "jupyter": {
          "outputs_hidden": false
        },
        "id": "3NyEEntgKa3q",
        "colab_type": "code",
        "colab": {}
      },
      "source": [
        "df.head()"
      ],
      "execution_count": 0,
      "outputs": []
    },
    {
      "cell_type": "code",
      "metadata": {
        "jupyter": {
          "outputs_hidden": false
        },
        "id": "N2q4FCszKa3s",
        "colab_type": "code",
        "colab": {}
      },
      "source": [
        "# Convert mpg to L/100km by mathematical operation (235 divided by mpg)\n",
        "df['city-L/100km'] = 235/df[\"city-mpg\"]\n",
        "\n",
        "# check your transformed data \n",
        "df.head()"
      ],
      "execution_count": 0,
      "outputs": []
    },
    {
      "cell_type": "markdown",
      "metadata": {
        "id": "AcvQER9sKa3u",
        "colab_type": "text"
      },
      "source": [
        "<div class=\"alert alert-danger alertdanger\" style=\"margin-top: 20px\">\n",
        "<h1> Question  #2: </h1>\n",
        "\n",
        "<b>According to the example above, transform mpg to L/100km in the column of \"highway-mpg\", and change the name of column to \"highway-L/100km\".</b>\n",
        "</div>"
      ]
    },
    {
      "cell_type": "code",
      "metadata": {
        "jupyter": {
          "outputs_hidden": false
        },
        "id": "vVs5M2iIKa3v",
        "colab_type": "code",
        "colab": {}
      },
      "source": [
        "# Write your code below and press Shift+Enter to execute \n"
      ],
      "execution_count": 0,
      "outputs": []
    },
    {
      "cell_type": "markdown",
      "metadata": {
        "id": "8ZEnq4ahKa3y",
        "colab_type": "text"
      },
      "source": [
        "Double-click <b>here</b> for the solution.\n",
        "\n",
        "<!-- The answer is below:\n",
        "\n",
        "# transform mpg to L/100km by mathematical operation (235 divided by mpg)\n",
        "df[\"highway-mpg\"] = 235/df[\"highway-mpg\"]\n",
        "\n",
        "# rename column name from \"highway-mpg\" to \"highway-L/100km\"\n",
        "df.rename(columns={'\"highway-mpg\"':'highway-L/100km'}, inplace=True)\n",
        "\n",
        "# check your transformed data \n",
        "df.head()\n",
        "\n",
        "-->\n"
      ]
    },
    {
      "cell_type": "markdown",
      "metadata": {
        "id": "GIIGXq8dKa3z",
        "colab_type": "text"
      },
      "source": [
        "<h2 id=\"data_normalization\">Data Normalization</h2>\n",
        "\n",
        "<b>Why normalization?</b>\n",
        "<p>Normalization is the process of transforming values of several variables into a similar range. Typical normalizations include scaling the variable so the variable average is 0, scaling the variable so the variance is 1, or scaling variable so the variable values range from 0 to 1\n",
        "</p>\n",
        "\n",
        "<b>Example</b>\n",
        "<p>To demonstrate normalization, let's say we want to scale the columns \"length\", \"width\" and \"height\" </p>\n",
        "<p><b>Target:</b>would like to Normalize those variables so their value ranges from 0 to 1.</p>\n",
        "<p><b>Approach:</b> replace original value by (original value)/(maximum value)</p>"
      ]
    },
    {
      "cell_type": "code",
      "metadata": {
        "jupyter": {
          "outputs_hidden": false
        },
        "id": "BSLMKlmtKa3z",
        "colab_type": "code",
        "colab": {}
      },
      "source": [
        "# replace (original value) by (original value)/(maximum value)\n",
        "df['length'] = df['length']/df['length'].max()\n",
        "df['width'] = df['width']/df['width'].max()"
      ],
      "execution_count": 0,
      "outputs": []
    },
    {
      "cell_type": "markdown",
      "metadata": {
        "id": "84m_CG43Ka31",
        "colab_type": "text"
      },
      "source": [
        "<div class=\"alert alert-danger alertdanger\" style=\"margin-top: 20px\">\n",
        "<h1> Questiont #3: </h1>\n",
        "\n",
        "<b>According to the example above, normalize the column \"height\".</b>\n",
        "</div>"
      ]
    },
    {
      "cell_type": "code",
      "metadata": {
        "jupyter": {
          "outputs_hidden": false
        },
        "id": "G3uS0rRGKa31",
        "colab_type": "code",
        "colab": {}
      },
      "source": [
        "# Write your code below and press Shift+Enter to execute \n"
      ],
      "execution_count": 0,
      "outputs": []
    },
    {
      "cell_type": "markdown",
      "metadata": {
        "id": "dH43Z21eKa34",
        "colab_type": "text"
      },
      "source": [
        "Double-click <b>here</b> for the solution.\n",
        "\n",
        "<!-- The answer is below:\n",
        "\n",
        "df['height'] = df['height']/df['height'].max() \n",
        "# show the scaled columns\n",
        "df[[\"length\",\"width\",\"height\"]].head()\n",
        "\n",
        "-->"
      ]
    },
    {
      "cell_type": "markdown",
      "metadata": {
        "id": "fi4bKAsnKa34",
        "colab_type": "text"
      },
      "source": [
        "Here we can see, we've normalized \"length\", \"width\" and \"height\" in the range of [0,1]."
      ]
    },
    {
      "cell_type": "markdown",
      "metadata": {
        "id": "AxidzOC7Ka34",
        "colab_type": "text"
      },
      "source": [
        "<h2 id=\"binning\">Binning</h2>\n",
        "<b>Why binning?</b>\n",
        "<p>\n",
        "    Binning is a process of transforming continuous numerical variables into discrete categorical 'bins', for grouped analysis.\n",
        "</p>\n",
        "\n",
        "<b>Example: </b>\n",
        "<p>In our dataset, \"horsepower\" is a real valued variable ranging from 48 to 288, it has 57 unique values. What if we only care about the price difference between cars with high horsepower, medium horsepower, and little horsepower (3 types)? Can we rearrange them into three ‘bins' to simplify analysis? </p>\n",
        "\n",
        "<p>We will use the Pandas method 'cut' to segment the 'horsepower' column into 3 bins </p>\n",
        "\n"
      ]
    },
    {
      "cell_type": "markdown",
      "metadata": {
        "id": "aQFMMe9PKa35",
        "colab_type": "text"
      },
      "source": [
        "<h3>Example of Binning Data In Pandas</h3>"
      ]
    },
    {
      "cell_type": "markdown",
      "metadata": {
        "id": "UuUn8kyNKa35",
        "colab_type": "text"
      },
      "source": [
        " Convert data to correct format "
      ]
    },
    {
      "cell_type": "code",
      "metadata": {
        "jupyter": {
          "outputs_hidden": false
        },
        "id": "ZEGxyO3eKa35",
        "colab_type": "code",
        "colab": {}
      },
      "source": [
        "df[\"horsepower\"]=df[\"horsepower\"].astype(int, copy=True)"
      ],
      "execution_count": 0,
      "outputs": []
    },
    {
      "cell_type": "markdown",
      "metadata": {
        "id": "47rhGbvDKa39",
        "colab_type": "text"
      },
      "source": [
        "Lets plot the histogram of horspower, to see what the distribution of horsepower looks like."
      ]
    },
    {
      "cell_type": "code",
      "metadata": {
        "id": "aOfJDsxPKa39",
        "colab_type": "code",
        "colab": {}
      },
      "source": [
        "%matplotlib inline\n",
        "import matplotlib as plt\n",
        "from matplotlib import pyplot\n",
        "plt.pyplot.hist(df[\"horsepower\"])\n",
        "\n",
        "# set x/y labels and plot title\n",
        "plt.pyplot.xlabel(\"horsepower\")\n",
        "plt.pyplot.ylabel(\"count\")\n",
        "plt.pyplot.title(\"horsepower bins\")"
      ],
      "execution_count": 0,
      "outputs": []
    },
    {
      "cell_type": "markdown",
      "metadata": {
        "id": "xtvxBQH7Ka3_",
        "colab_type": "text"
      },
      "source": [
        "<p>We would like 3 bins of equal size bandwidth so we use numpy's <code>linspace(start_value, end_value, numbers_generated</code> function.</p>\n",
        "<p>Since we want to include the minimum value of horsepower we want to set start_value=min(df[\"horsepower\"]).</p>\n",
        "<p>Since we want to include the maximum value of horsepower we want to set end_value=max(df[\"horsepower\"]).</p>\n",
        "<p>Since we are building 3 bins of equal length, there should be 4 dividers, so numbers_generated=4.</p>"
      ]
    },
    {
      "cell_type": "markdown",
      "metadata": {
        "id": "sRIDyKf9Ka3_",
        "colab_type": "text"
      },
      "source": [
        "We build a bin array, with a minimum value to a maximum value, with bandwidth calculated above. The bins will be values used to determine when one bin ends and another begins."
      ]
    },
    {
      "cell_type": "code",
      "metadata": {
        "jupyter": {
          "outputs_hidden": false
        },
        "id": "VjNMxPzVKa4A",
        "colab_type": "code",
        "colab": {}
      },
      "source": [
        "bins = np.linspace(min(df[\"horsepower\"]), max(df[\"horsepower\"]), 4)\n",
        "bins"
      ],
      "execution_count": 0,
      "outputs": []
    },
    {
      "cell_type": "markdown",
      "metadata": {
        "id": "rTzLMtADKa4B",
        "colab_type": "text"
      },
      "source": [
        " We set group  names:"
      ]
    },
    {
      "cell_type": "code",
      "metadata": {
        "jupyter": {
          "outputs_hidden": true
        },
        "id": "wmR1qmIlKa4B",
        "colab_type": "code",
        "colab": {}
      },
      "source": [
        "group_names = ['Low', 'Medium', 'High']"
      ],
      "execution_count": 0,
      "outputs": []
    },
    {
      "cell_type": "markdown",
      "metadata": {
        "id": "lGcH_gR0Ka4D",
        "colab_type": "text"
      },
      "source": [
        " We apply the function \"cut\" the determine what each value of \"df['horsepower']\" belongs to. "
      ]
    },
    {
      "cell_type": "code",
      "metadata": {
        "jupyter": {
          "outputs_hidden": false
        },
        "id": "1xOyHP6lKa4D",
        "colab_type": "code",
        "colab": {}
      },
      "source": [
        "df['horsepower-binned'] = pd.cut(df['horsepower'], bins, labels=group_names, include_lowest=True )\n",
        "df[['horsepower','horsepower-binned']].head(20)"
      ],
      "execution_count": 0,
      "outputs": []
    },
    {
      "cell_type": "markdown",
      "metadata": {
        "id": "C8dFmmI5Ka4G",
        "colab_type": "text"
      },
      "source": [
        "Lets see the number of vehicles in each bin."
      ]
    },
    {
      "cell_type": "code",
      "metadata": {
        "id": "rrq88H0-Ka4G",
        "colab_type": "code",
        "colab": {}
      },
      "source": [
        "df[\"horsepower-binned\"].value_counts()"
      ],
      "execution_count": 0,
      "outputs": []
    },
    {
      "cell_type": "markdown",
      "metadata": {
        "id": "A9quAT11Ka4I",
        "colab_type": "text"
      },
      "source": [
        "Lets plot the distribution of each bin."
      ]
    },
    {
      "cell_type": "code",
      "metadata": {
        "id": "z3hhfzNbKa4I",
        "colab_type": "code",
        "colab": {}
      },
      "source": [
        "%matplotlib inline\n",
        "import matplotlib as plt\n",
        "from matplotlib import pyplot\n",
        "pyplot.bar(group_names, df[\"horsepower-binned\"].value_counts())\n",
        "\n",
        "# set x/y labels and plot title\n",
        "plt.pyplot.xlabel(\"horsepower\")\n",
        "plt.pyplot.ylabel(\"count\")\n",
        "plt.pyplot.title(\"horsepower bins\")"
      ],
      "execution_count": 0,
      "outputs": []
    },
    {
      "cell_type": "markdown",
      "metadata": {
        "id": "2hQmsoghKa4J",
        "colab_type": "text"
      },
      "source": [
        "<p>\n",
        "    Check the dataframe above carefully, you will find the last column provides the bins for \"horsepower\" with 3 categories (\"Low\",\"Medium\" and \"High\"). \n",
        "</p>\n",
        "<p>\n",
        "    We successfully narrow the intervals from 57 to 3!\n",
        "</p>"
      ]
    },
    {
      "cell_type": "markdown",
      "metadata": {
        "id": "aDkhOW4eKa4K",
        "colab_type": "text"
      },
      "source": [
        "<h3>Bins visualization</h3>\n",
        "Normally, a histogram is used to visualize the distribution of bins we created above. "
      ]
    },
    {
      "cell_type": "code",
      "metadata": {
        "jupyter": {
          "outputs_hidden": false
        },
        "id": "2pQwWY3oKa4L",
        "colab_type": "code",
        "colab": {}
      },
      "source": [
        "%matplotlib inline\n",
        "import matplotlib as plt\n",
        "from matplotlib import pyplot\n",
        "\n",
        "a = (0,1,2)\n",
        "\n",
        "# draw historgram of attribute \"horsepower\" with bins = 3\n",
        "plt.pyplot.hist(df[\"horsepower\"], bins = 3)\n",
        "\n",
        "# set x/y labels and plot title\n",
        "plt.pyplot.xlabel(\"horsepower\")\n",
        "plt.pyplot.ylabel(\"count\")\n",
        "plt.pyplot.title(\"horsepower bins\")"
      ],
      "execution_count": 0,
      "outputs": []
    },
    {
      "cell_type": "markdown",
      "metadata": {
        "id": "VYPWfbVAKa4M",
        "colab_type": "text"
      },
      "source": [
        "The plot above shows the binning result for attribute \"horsepower\". "
      ]
    },
    {
      "cell_type": "markdown",
      "metadata": {
        "id": "pjP4IvWGKa4N",
        "colab_type": "text"
      },
      "source": [
        "<h2 id=\"indicator\">Indicator variable (or dummy variable)</h2>\n",
        "<b>What is an indicator variable?</b>\n",
        "<p>\n",
        "    An indicator variable (or dummy variable) is a numerical variable used to label categories. They are called 'dummies' because the numbers themselves don't have inherent meaning. \n",
        "</p>\n",
        "\n",
        "<b>Why we use indicator variables?</b>\n",
        "<p>\n",
        "    So we can use categorical variables for regression analysis in the later modules.\n",
        "</p>\n",
        "<b>Example</b>\n",
        "<p>\n",
        "    We see the column \"fuel-type\" has two unique values, \"gas\" or \"diesel\". Regression doesn't understand words, only numbers. To use this attribute in regression analysis, we convert \"fuel-type\" into indicator variables.\n",
        "</p>\n",
        "\n",
        "<p>\n",
        "    We will use the panda's method 'get_dummies' to assign numerical values to different categories of fuel type. \n",
        "</p>"
      ]
    },
    {
      "cell_type": "code",
      "metadata": {
        "jupyter": {
          "outputs_hidden": false
        },
        "id": "SDAz-ZeFKa4N",
        "colab_type": "code",
        "colab": {}
      },
      "source": [
        "df.columns"
      ],
      "execution_count": 0,
      "outputs": []
    },
    {
      "cell_type": "markdown",
      "metadata": {
        "id": "6agz6NhdKa4R",
        "colab_type": "text"
      },
      "source": [
        "get indicator variables and assign it to data frame \"dummy_variable_1\" "
      ]
    },
    {
      "cell_type": "code",
      "metadata": {
        "jupyter": {
          "outputs_hidden": false
        },
        "id": "wYfgAbAmKa4R",
        "colab_type": "code",
        "colab": {}
      },
      "source": [
        "dummy_variable_1 = pd.get_dummies(df[\"fuel-type\"])\n",
        "dummy_variable_1.head()"
      ],
      "execution_count": 0,
      "outputs": []
    },
    {
      "cell_type": "markdown",
      "metadata": {
        "id": "t4p-pBw4Ka4T",
        "colab_type": "text"
      },
      "source": [
        "change column names for clarity "
      ]
    },
    {
      "cell_type": "code",
      "metadata": {
        "jupyter": {
          "outputs_hidden": false
        },
        "id": "fQPsqVY4Ka4T",
        "colab_type": "code",
        "colab": {}
      },
      "source": [
        "dummy_variable_1.rename(columns={'fuel-type-diesel':'gas', 'fuel-type-diesel':'diesel'}, inplace=True)\n",
        "dummy_variable_1.head()"
      ],
      "execution_count": 0,
      "outputs": []
    },
    {
      "cell_type": "markdown",
      "metadata": {
        "id": "adWVJOYOKa4W",
        "colab_type": "text"
      },
      "source": [
        "We now have the value 0 to represent \"gas\" and 1 to represent \"diesel\" in the column \"fuel-type\". We will now insert this column back into our original dataset. "
      ]
    },
    {
      "cell_type": "code",
      "metadata": {
        "jupyter": {
          "outputs_hidden": true
        },
        "id": "ib0w9tyNKa4W",
        "colab_type": "code",
        "colab": {}
      },
      "source": [
        "# merge data frame \"df\" and \"dummy_variable_1\" \n",
        "df = pd.concat([df, dummy_variable_1], axis=1)\n",
        "\n",
        "# drop original column \"fuel-type\" from \"df\"\n",
        "df.drop(\"fuel-type\", axis = 1, inplace=True)"
      ],
      "execution_count": 0,
      "outputs": []
    },
    {
      "cell_type": "code",
      "metadata": {
        "jupyter": {
          "outputs_hidden": false
        },
        "id": "U6VS6wsLKa4Y",
        "colab_type": "code",
        "colab": {}
      },
      "source": [
        "df.head()"
      ],
      "execution_count": 0,
      "outputs": []
    },
    {
      "cell_type": "markdown",
      "metadata": {
        "id": "rjS0a9clKa4a",
        "colab_type": "text"
      },
      "source": [
        "The last two columns are now the indicator variable representation of the fuel-type variable. It's all 0s and 1s now."
      ]
    },
    {
      "cell_type": "markdown",
      "metadata": {
        "id": "N4RBnsyvKa4b",
        "colab_type": "text"
      },
      "source": [
        "<div class=\"alert alert-danger alertdanger\" style=\"margin-top: 20px\">\n",
        "<h1> Question  #4: </h1>\n",
        "\n",
        "<b>As above, create indicator variable to the column of \"aspiration\": \"std\" to 0, while \"turbo\" to 1.</b>\n",
        "</div>"
      ]
    },
    {
      "cell_type": "code",
      "metadata": {
        "jupyter": {
          "outputs_hidden": false
        },
        "id": "LymHN319Ka4b",
        "colab_type": "code",
        "colab": {}
      },
      "source": [
        "# Write your code below and press Shift+Enter to execute \n"
      ],
      "execution_count": 0,
      "outputs": []
    },
    {
      "cell_type": "markdown",
      "metadata": {
        "id": "ukpcG87dKa4c",
        "colab_type": "text"
      },
      "source": [
        "Double-click <b>here</b> for the solution.\n",
        "\n",
        "<!-- The answer is below:\n",
        "\n",
        "# get indicator variables of aspiration and assign it to data frame \"dummy_variable_2\"\n",
        "dummy_variable_2 = pd.get_dummies(df['aspiration'])\n",
        "\n",
        "# change column names for clarity\n",
        "dummy_variable_2.rename(columns={'std':'aspiration-std', 'turbo': 'aspiration-turbo'}, inplace=True)\n",
        "\n",
        "# show first 5 instances of data frame \"dummy_variable_1\"\n",
        "dummy_variable_2.head()\n",
        "\n",
        "-->"
      ]
    },
    {
      "cell_type": "markdown",
      "metadata": {
        "id": "icdMm2tmKa4d",
        "colab_type": "text"
      },
      "source": [
        " <div class=\"alert alert-danger alertdanger\" style=\"margin-top: 20px\">\n",
        "<h1> Question  #5: </h1>\n",
        "\n",
        "<b>Merge the new dataframe to the original dataframe then drop the column 'aspiration'</b>\n",
        "</div>"
      ]
    },
    {
      "cell_type": "code",
      "metadata": {
        "jupyter": {
          "outputs_hidden": false
        },
        "id": "kEzRCWyfKa4f",
        "colab_type": "code",
        "colab": {}
      },
      "source": [
        "# Write your code below and press Shift+Enter to execute \n"
      ],
      "execution_count": 0,
      "outputs": []
    },
    {
      "cell_type": "markdown",
      "metadata": {
        "id": "NtuWIPVsKa4h",
        "colab_type": "text"
      },
      "source": [
        "Double-click <b>here</b> for the solution.\n",
        "\n",
        "<!-- The answer is below:\n",
        "\n",
        "#merge the new dataframe to the original datafram\n",
        "df = pd.concat([df, dummy_variable_2], axis=1)\n",
        "\n",
        "# drop original column \"aspiration\" from \"df\"\n",
        "df.drop('aspiration', axis = 1, inplace=True)\n",
        "\n",
        "-->"
      ]
    },
    {
      "cell_type": "markdown",
      "metadata": {
        "id": "CrJ_zXKWKa4h",
        "colab_type": "text"
      },
      "source": [
        "save the new csv "
      ]
    },
    {
      "cell_type": "code",
      "metadata": {
        "jupyter": {
          "outputs_hidden": true
        },
        "id": "ni9nv0HgKa4h",
        "colab_type": "code",
        "colab": {}
      },
      "source": [
        "df.to_csv('clean_df.csv')"
      ],
      "execution_count": 0,
      "outputs": []
    },
    {
      "cell_type": "markdown",
      "metadata": {
        "id": "3V7B8jMxKa4j",
        "colab_type": "text"
      },
      "source": [
        "<h1>Thank you for completing this notebook</h1>"
      ]
    },
    {
      "cell_type": "markdown",
      "metadata": {
        "id": "L2QCgu2hKa4k",
        "colab_type": "text"
      },
      "source": [
        "<div class=\"alert alert-block alert-info\" style=\"margin-top: 20px\">\n",
        "\n",
        "    <p><a href=\"https://cocl.us/corsera_da0101en_notebook_bottom\"><img src=\"https://s3-api.us-geo.objectstorage.softlayer.net/cf-courses-data/CognitiveClass/DA0101EN/Images/BottomAd.png\" width=\"750\" align=\"center\"></a></p>\n",
        "</div>"
      ]
    },
    {
      "cell_type": "markdown",
      "metadata": {
        "id": "5u6Ko8_oKa4k",
        "colab_type": "text"
      },
      "source": [
        "<h3>About the Authors:</h3>\n",
        "\n",
        "This notebook was written by <a href=\"https://www.linkedin.com/in/mahdi-noorian-58219234/\" target=\"_blank\">Mahdi Noorian PhD</a>, <a href=\"https://www.linkedin.com/in/joseph-s-50398b136/\" target=\"_blank\">Joseph Santarcangelo</a>, Bahare Talayian, Eric Xiao, Steven Dong, Parizad, Hima Vsudevan and <a href=\"https://www.linkedin.com/in/fiorellawever/\" target=\"_blank\">Fiorella Wenver</a> and <a href=\" https://www.linkedin.com/in/yi-leng-yao-84451275/ \" target=\"_blank\" >Yi Yao</a>.\n",
        "\n",
        "<p><a href=\"https://www.linkedin.com/in/joseph-s-50398b136/\" target=\"_blank\">Joseph Santarcangelo</a> is a Data Scientist at IBM, and holds a PhD in Electrical Engineering. His research focused on using Machine Learning, Signal Processing, and Computer Vision to determine how videos impact human cognition. Joseph has been working for IBM since he completed his PhD.</p>"
      ]
    },
    {
      "cell_type": "markdown",
      "metadata": {
        "id": "Tbz3X5hLKa4k",
        "colab_type": "text"
      },
      "source": [
        "<hr>\n",
        "<p>Copyright &copy; 2018 IBM Developer Skills Network. This notebook and its source code are released under the terms of the <a href=\"https://cognitiveclass.ai/mit-license/\">MIT License</a>.</p>"
      ]
    }
  ]
}