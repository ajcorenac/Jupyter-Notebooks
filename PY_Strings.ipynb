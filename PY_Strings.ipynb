{
  "nbformat": 4,
  "nbformat_minor": 0,
  "metadata": {
    "kernelspec": {
      "display_name": "Python",
      "language": "python",
      "name": "conda-env-python-py"
    },
    "language_info": {
      "codemirror_mode": {
        "name": "ipython",
        "version": 3
      },
      "file_extension": ".py",
      "mimetype": "text/x-python",
      "name": "python",
      "nbconvert_exporter": "python",
      "pygments_lexer": "ipython3",
      "version": "3.6.7"
    },
    "colab": {
      "name": "PY0101EN-1-2-Strings.ipynb",
      "provenance": [],
      "include_colab_link": true
    }
  },
  "cells": [
    {
      "cell_type": "markdown",
      "metadata": {
        "id": "view-in-github",
        "colab_type": "text"
      },
      "source": [
        "<a href=\"https://colab.research.google.com/github/ajcorenac/Jupyter-Notebooks/blob/master/PY_Strings.ipynb\" target=\"_parent\"><img src=\"https://colab.research.google.com/assets/colab-badge.svg\" alt=\"Open In Colab\"/></a>"
      ]
    },
    {
      "cell_type": "markdown",
      "metadata": {
        "id": "W0QEGqalEa6-",
        "colab_type": "text"
      },
      "source": [
        "<a href=\"https://cognitiveclass.ai/\">\n",
        "    <img src=\"https://s3-api.us-geo.objectstorage.softlayer.net/cf-courses-data/CognitiveClass/PY0101EN/Ad/CCLog.png\" width=\"200\" align=\"center\">\n",
        "</a>"
      ]
    },
    {
      "cell_type": "markdown",
      "metadata": {
        "id": "oXtw7JhjEa6_",
        "colab_type": "text"
      },
      "source": [
        "<h1>String Operations</h1>"
      ]
    },
    {
      "cell_type": "markdown",
      "metadata": {
        "id": "Vlh5PYu0Ea7A",
        "colab_type": "text"
      },
      "source": [
        "<p><strong>Welcome!</strong> This notebook will teach you about the string operations in the Python Programming Language. By the end of this notebook, you'll know the basics string operations in Python, including indexing, escape sequences and operations.</p> "
      ]
    },
    {
      "cell_type": "markdown",
      "metadata": {
        "id": "n41jGWX8Ea7A",
        "colab_type": "text"
      },
      "source": [
        "<div class=\"alert alert-block alert-info\" style=\"margin-top: 20px\">\n",
        "    <a href=\"https://cocl.us/topNotebooksPython101Coursera\">\n",
        "         <img src=\"https://s3-api.us-geo.objectstorage.softlayer.net/cf-courses-data/CognitiveClass/PY0101EN/Ad/TopAd.png\" width=\"750\" align=\"center\">\n",
        "    </a>\n",
        "</div>"
      ]
    },
    {
      "cell_type": "markdown",
      "metadata": {
        "id": "nB8XPGtZEa7B",
        "colab_type": "text"
      },
      "source": [
        "<h2>Table of Contents</h2>\n",
        "<div class=\"alert alert-block alert-info\" style=\"margin-top: 20px\">\n",
        "    <ul>\n",
        "        <li>\n",
        "            <a href=\"#strings\">What are Strings?</a>\n",
        "        </li>\n",
        "        <li>\n",
        "            <a href=\"#index\">Indexing</a>\n",
        "            <ul>\n",
        "                <li><a href=\"neg\">Negative Indexing</a></li>\n",
        "                <li><a href=\"slice\">Slicing</a></li>\n",
        "                <li><a href=\"stride\">Stride</a></li>\n",
        "                <li><a href=\"concat\">Concatenate Strings</a></li>\n",
        "            </ul>\n",
        "        </li>\n",
        "        <li>\n",
        "            <a href=\"#escape\">Escape Sequences</a>\n",
        "        </li>\n",
        "        <li>\n",
        "            <a href=\"#operations\">String Operations</a>\n",
        "        </li>\n",
        "        <li>\n",
        "            <a href=\"#quiz\">Quiz on Strings</a>\n",
        "        </li>\n",
        "    </ul>\n",
        "    <p>\n",
        "        Estimated time needed: <strong>15 min</strong>\n",
        "    </p>\n",
        "</div>\n",
        "\n",
        "<hr>"
      ]
    },
    {
      "cell_type": "markdown",
      "metadata": {
        "id": "SpyCRt2yEa7B",
        "colab_type": "text"
      },
      "source": [
        "<h2 id=\"strings\">What are Strings?</h2>"
      ]
    },
    {
      "cell_type": "markdown",
      "metadata": {
        "id": "tg5sTylqEa7C",
        "colab_type": "text"
      },
      "source": [
        "The following example shows a string contained within 2 quotation marks:"
      ]
    },
    {
      "cell_type": "code",
      "metadata": {
        "jupyter": {
          "outputs_hidden": false
        },
        "id": "afpzvOxpEa7C",
        "colab_type": "code",
        "colab": {},
        "outputId": "051d418a-81b6-4433-c0c2-23519abc34ca"
      },
      "source": [
        "# Use quotation marks for defining string\n",
        "\n",
        "\"Michael Jackson\""
      ],
      "execution_count": 0,
      "outputs": [
        {
          "output_type": "execute_result",
          "data": {
            "text/plain": [
              "'Michael Jackson'"
            ]
          },
          "metadata": {
            "tags": []
          },
          "execution_count": 1
        }
      ]
    },
    {
      "cell_type": "markdown",
      "metadata": {
        "id": "nfyp00-TEa7H",
        "colab_type": "text"
      },
      "source": [
        "We can also use single quotation marks:"
      ]
    },
    {
      "cell_type": "code",
      "metadata": {
        "jupyter": {
          "outputs_hidden": false
        },
        "id": "NomOD9h9Ea7H",
        "colab_type": "code",
        "colab": {},
        "outputId": "6cb8bc2e-f39d-4fdb-aac7-870f1416f582"
      },
      "source": [
        "# Use single quotation marks for defining string\n",
        "\n",
        "'Michael Jackson'"
      ],
      "execution_count": 0,
      "outputs": [
        {
          "output_type": "execute_result",
          "data": {
            "text/plain": [
              "'Michael Jackson'"
            ]
          },
          "metadata": {
            "tags": []
          },
          "execution_count": 2
        }
      ]
    },
    {
      "cell_type": "markdown",
      "metadata": {
        "id": "uiGUwD46Ea7K",
        "colab_type": "text"
      },
      "source": [
        "A string can be a combination of spaces and digits: "
      ]
    },
    {
      "cell_type": "code",
      "metadata": {
        "jupyter": {
          "outputs_hidden": false
        },
        "id": "ssVd5NHREa7K",
        "colab_type": "code",
        "colab": {},
        "outputId": "9298a9fb-f278-4888-e0de-8ee60656ce50"
      },
      "source": [
        "# Digitals and spaces in string\n",
        "\n",
        "'1 2 3 4 5 6 '"
      ],
      "execution_count": 0,
      "outputs": [
        {
          "output_type": "execute_result",
          "data": {
            "text/plain": [
              "'1 2 3 4 5 6 '"
            ]
          },
          "metadata": {
            "tags": []
          },
          "execution_count": 3
        }
      ]
    },
    {
      "cell_type": "markdown",
      "metadata": {
        "id": "8GYbQG4zEa7N",
        "colab_type": "text"
      },
      "source": [
        "A string can also be a combination of special characters : "
      ]
    },
    {
      "cell_type": "code",
      "metadata": {
        "jupyter": {
          "outputs_hidden": false
        },
        "id": "66jKzuUZEa7N",
        "colab_type": "code",
        "colab": {},
        "outputId": "ab2b98d2-c9dd-4238-ab42-e9b9279a298e"
      },
      "source": [
        "# Special characters in string\n",
        "\n",
        "'@#2_#]&*^%$'"
      ],
      "execution_count": 0,
      "outputs": [
        {
          "output_type": "execute_result",
          "data": {
            "text/plain": [
              "'@#2_#]&*^%$'"
            ]
          },
          "metadata": {
            "tags": []
          },
          "execution_count": 4
        }
      ]
    },
    {
      "cell_type": "markdown",
      "metadata": {
        "id": "jeyyRYJaEa7Q",
        "colab_type": "text"
      },
      "source": [
        "We can print our string using the print statement:"
      ]
    },
    {
      "cell_type": "code",
      "metadata": {
        "jupyter": {
          "outputs_hidden": false
        },
        "id": "jCM3_jxeEa7Q",
        "colab_type": "code",
        "colab": {},
        "outputId": "e680e7ab-7486-4221-fd37-986809c8ae08"
      },
      "source": [
        "# Print the string\n",
        "\n",
        "print(\"hello!\")"
      ],
      "execution_count": 0,
      "outputs": [
        {
          "output_type": "stream",
          "text": [
            "hello!\n"
          ],
          "name": "stdout"
        }
      ]
    },
    {
      "cell_type": "markdown",
      "metadata": {
        "id": "CXqp-9YiEa7T",
        "colab_type": "text"
      },
      "source": [
        "We can bind or assign a string to another variable:\n"
      ]
    },
    {
      "cell_type": "code",
      "metadata": {
        "jupyter": {
          "outputs_hidden": false
        },
        "id": "BAva2Y-lEa7T",
        "colab_type": "code",
        "colab": {},
        "outputId": "6d2ec137-47c2-48fd-d6c5-c16088293394"
      },
      "source": [
        "# Assign string to variable\n",
        "\n",
        "Name = \"Michael Jackson\"\n",
        "Name"
      ],
      "execution_count": 0,
      "outputs": [
        {
          "output_type": "execute_result",
          "data": {
            "text/plain": [
              "'Michael Jackson'"
            ]
          },
          "metadata": {
            "tags": []
          },
          "execution_count": 6
        }
      ]
    },
    {
      "cell_type": "markdown",
      "metadata": {
        "id": "Vx1e27cVEa7V",
        "colab_type": "text"
      },
      "source": [
        "<hr>"
      ]
    },
    {
      "cell_type": "markdown",
      "metadata": {
        "id": "ybn_SB84Ea7W",
        "colab_type": "text"
      },
      "source": [
        "<h2 id=\"index\">Indexing</h2>"
      ]
    },
    {
      "cell_type": "markdown",
      "metadata": {
        "id": "jsPqkAsZEa7W",
        "colab_type": "text"
      },
      "source": [
        "It is helpful to think of a string as an ordered sequence. Each element in the sequence can be accessed using an index represented by the array of numbers:  "
      ]
    },
    {
      "cell_type": "markdown",
      "metadata": {
        "id": "p-Y-staGEa7X",
        "colab_type": "text"
      },
      "source": [
        "<img src=\"https://s3-api.us-geo.objectstorage.softlayer.net/cf-courses-data/CognitiveClass/PY0101EN/Chapter%201/Images/StringsIndex.png\" width=\"600\" align=\"center\" />"
      ]
    },
    {
      "cell_type": "markdown",
      "metadata": {
        "id": "kIFpjLRPEa7X",
        "colab_type": "text"
      },
      "source": [
        " The first index can be accessed as follows:"
      ]
    },
    {
      "cell_type": "markdown",
      "metadata": {
        "id": "I4Qz7FPQEa7X",
        "colab_type": "text"
      },
      "source": [
        "<hr/>\n",
        "<div class=\"alert alert-success alertsuccess\" style=\"margin-top: 20px\">\n",
        "[Tip]: Because indexing starts at 0, it means the first index is on the index 0.\n",
        "</div>\n",
        "<hr/>"
      ]
    },
    {
      "cell_type": "code",
      "metadata": {
        "jupyter": {
          "outputs_hidden": false
        },
        "id": "hyV7FIE1Ea7Y",
        "colab_type": "code",
        "colab": {},
        "outputId": "50a04d84-fcb3-4e0b-edc6-7cd1d924579e"
      },
      "source": [
        "# Print the first element in the string\n",
        "\n",
        "print(Name[0])"
      ],
      "execution_count": 0,
      "outputs": [
        {
          "output_type": "stream",
          "text": [
            "M\n"
          ],
          "name": "stdout"
        }
      ]
    },
    {
      "cell_type": "markdown",
      "metadata": {
        "id": "73vYVMlEEa7a",
        "colab_type": "text"
      },
      "source": [
        " We can access index 6:"
      ]
    },
    {
      "cell_type": "code",
      "metadata": {
        "jupyter": {
          "outputs_hidden": false
        },
        "id": "7sTaLvIbEa7b",
        "colab_type": "code",
        "colab": {},
        "outputId": "d920e3ef-ae9f-4d1c-b0c1-00148229c2bf"
      },
      "source": [
        "# Print the element on index 6 in the string\n",
        "\n",
        "print(Name[6])"
      ],
      "execution_count": 0,
      "outputs": [
        {
          "output_type": "stream",
          "text": [
            "l\n"
          ],
          "name": "stdout"
        }
      ]
    },
    {
      "cell_type": "markdown",
      "metadata": {
        "id": "0oCLJb22Ea7e",
        "colab_type": "text"
      },
      "source": [
        "Moreover, we can access the 13th index:"
      ]
    },
    {
      "cell_type": "code",
      "metadata": {
        "jupyter": {
          "outputs_hidden": false
        },
        "id": "nMt52GscEa7f",
        "colab_type": "code",
        "colab": {},
        "outputId": "3b5c725a-51fa-4144-ee70-8fe09fc22198"
      },
      "source": [
        "# Print the element on the 13th index in the string\n",
        "\n",
        "print(Name[13])"
      ],
      "execution_count": 0,
      "outputs": [
        {
          "output_type": "stream",
          "text": [
            "o\n"
          ],
          "name": "stdout"
        }
      ]
    },
    {
      "cell_type": "markdown",
      "metadata": {
        "id": "U7QGnzFAEa7i",
        "colab_type": "text"
      },
      "source": [
        "<h3 id=\"neg\">Negative Indexing</h3>"
      ]
    },
    {
      "cell_type": "markdown",
      "metadata": {
        "id": "c191uzF2Ea7j",
        "colab_type": "text"
      },
      "source": [
        " We can also use negative indexing with strings:"
      ]
    },
    {
      "cell_type": "markdown",
      "metadata": {
        "id": "tDdWpFfOEa7j",
        "colab_type": "text"
      },
      "source": [
        "<img src=\"https://s3-api.us-geo.objectstorage.softlayer.net/cf-courses-data/CognitiveClass/PY0101EN/Chapter%201/Images/StringsNeg.png\" width=\"600\" align=\"center\" />"
      ]
    },
    {
      "cell_type": "markdown",
      "metadata": {
        "id": "OAybbCpTEa7j",
        "colab_type": "text"
      },
      "source": [
        "Negative index can help us to count the element from the end of the string."
      ]
    },
    {
      "cell_type": "markdown",
      "metadata": {
        "id": "DN5W-7bjEa7k",
        "colab_type": "text"
      },
      "source": [
        "The last element is given by the index -1: "
      ]
    },
    {
      "cell_type": "code",
      "metadata": {
        "jupyter": {
          "outputs_hidden": false
        },
        "id": "bZYlG11ZEa7k",
        "colab_type": "code",
        "colab": {},
        "outputId": "45ae991b-1d1d-469c-e8d3-19e322198af8"
      },
      "source": [
        "# Print the last element in the string\n",
        "\n",
        "print(Name[-1])"
      ],
      "execution_count": 0,
      "outputs": [
        {
          "output_type": "stream",
          "text": [
            "n\n"
          ],
          "name": "stdout"
        }
      ]
    },
    {
      "cell_type": "markdown",
      "metadata": {
        "id": "o2nXFnpkEa7m",
        "colab_type": "text"
      },
      "source": [
        " The first element can be obtained by  index -15:"
      ]
    },
    {
      "cell_type": "code",
      "metadata": {
        "jupyter": {
          "outputs_hidden": false
        },
        "id": "O8HQlNfKEa7m",
        "colab_type": "code",
        "colab": {},
        "outputId": "b32faa8d-4577-4f64-ec12-c803c1c87982"
      },
      "source": [
        "# Print the first element in the string\n",
        "\n",
        "print(Name[-15])"
      ],
      "execution_count": 0,
      "outputs": [
        {
          "output_type": "stream",
          "text": [
            "M\n"
          ],
          "name": "stdout"
        }
      ]
    },
    {
      "cell_type": "markdown",
      "metadata": {
        "id": "mRGVJVzjEa7o",
        "colab_type": "text"
      },
      "source": [
        "We can find the number of characters in a string by using <code>len</code>, short for length:"
      ]
    },
    {
      "cell_type": "code",
      "metadata": {
        "jupyter": {
          "outputs_hidden": false
        },
        "id": "gajY0XdxEa7o",
        "colab_type": "code",
        "colab": {},
        "outputId": "02f31b17-1397-42e4-df7a-4cf22fccd387"
      },
      "source": [
        "# Find the length of string\n",
        "\n",
        "len(\"Michael Jackson\")"
      ],
      "execution_count": 0,
      "outputs": [
        {
          "output_type": "execute_result",
          "data": {
            "text/plain": [
              "15"
            ]
          },
          "metadata": {
            "tags": []
          },
          "execution_count": 12
        }
      ]
    },
    {
      "cell_type": "markdown",
      "metadata": {
        "id": "LAkG3oVDEa7q",
        "colab_type": "text"
      },
      "source": [
        "<h3 id=\"slice\">Slicing</h3>"
      ]
    },
    {
      "cell_type": "markdown",
      "metadata": {
        "id": "MSZHf5AeEa7r",
        "colab_type": "text"
      },
      "source": [
        "We can obtain multiple characters from a string using slicing, we can obtain the 0 to 4th and 8th to the 12th element:  "
      ]
    },
    {
      "cell_type": "markdown",
      "metadata": {
        "id": "PyyoVoNfEa7r",
        "colab_type": "text"
      },
      "source": [
        "<img src=\"https://s3-api.us-geo.objectstorage.softlayer.net/cf-courses-data/CognitiveClass/PY0101EN/Chapter%201/Images/StringsSlice.png\" width=\"600\" align=\"center\" />"
      ]
    },
    {
      "cell_type": "markdown",
      "metadata": {
        "id": "7TXzjemtEa7r",
        "colab_type": "text"
      },
      "source": [
        "<hr/>\n",
        "<div class=\"alert alert-success alertsuccess\" style=\"margin-top: 20px\">\n",
        "[Tip]: When taking the slice, the first number means the index (start at 0), and the second number means the length from the index to the last element you want (start at 1)\n",
        "</div>\n",
        "<hr/>"
      ]
    },
    {
      "cell_type": "code",
      "metadata": {
        "jupyter": {
          "outputs_hidden": false
        },
        "id": "WqmAYcNUEa7s",
        "colab_type": "code",
        "colab": {},
        "outputId": "428442f9-1aa9-42da-c74e-936db8d52d7a"
      },
      "source": [
        "# Take the slice on variable Name with only index 0 to index 3\n",
        "\n",
        "Name[0:4]"
      ],
      "execution_count": 0,
      "outputs": [
        {
          "output_type": "execute_result",
          "data": {
            "text/plain": [
              "'Mich'"
            ]
          },
          "metadata": {
            "tags": []
          },
          "execution_count": 13
        }
      ]
    },
    {
      "cell_type": "code",
      "metadata": {
        "jupyter": {
          "outputs_hidden": false
        },
        "id": "Mm5w3LDxEa7u",
        "colab_type": "code",
        "colab": {},
        "outputId": "af2190e1-e595-40d1-b30d-11c7fb2bdfa0"
      },
      "source": [
        "# Take the slice on variable Name with only index 8 to index 11\n",
        "\n",
        "Name[8:12]"
      ],
      "execution_count": 0,
      "outputs": [
        {
          "output_type": "execute_result",
          "data": {
            "text/plain": [
              "'Jack'"
            ]
          },
          "metadata": {
            "tags": []
          },
          "execution_count": 14
        }
      ]
    },
    {
      "cell_type": "markdown",
      "metadata": {
        "id": "WvJ7pMk5Ea7w",
        "colab_type": "text"
      },
      "source": [
        "<h3 id=\"stride\">Stride</h3>"
      ]
    },
    {
      "cell_type": "markdown",
      "metadata": {
        "id": "K0uCI618Ea7x",
        "colab_type": "text"
      },
      "source": [
        " We can also  input a stride value as follows, with the '2' indicating that we are selecting every second variable:"
      ]
    },
    {
      "cell_type": "markdown",
      "metadata": {
        "id": "aghmqnobEa7x",
        "colab_type": "text"
      },
      "source": [
        "<img src=\"https://s3-api.us-geo.objectstorage.softlayer.net/cf-courses-data/CognitiveClass/PY0101EN/Chapter%201/Images/StringsStride.png\" width=\"600\" align=\"center\" />"
      ]
    },
    {
      "cell_type": "code",
      "metadata": {
        "jupyter": {
          "outputs_hidden": false
        },
        "id": "fjZbPkwOEa7x",
        "colab_type": "code",
        "colab": {},
        "outputId": "2ba82b1d-7c31-4b68-b618-df4b36968095"
      },
      "source": [
        "# Get every second element. The elments on index 1, 3, 5 ...\n",
        "\n",
        "Name[::2]"
      ],
      "execution_count": 0,
      "outputs": [
        {
          "output_type": "execute_result",
          "data": {
            "text/plain": [
              "'McalJcsn'"
            ]
          },
          "metadata": {
            "tags": []
          },
          "execution_count": 15
        }
      ]
    },
    {
      "cell_type": "markdown",
      "metadata": {
        "id": "Pq1vHBqwEa7z",
        "colab_type": "text"
      },
      "source": [
        "We can also incorporate slicing  with the stride. In this case, we select the first five elements and then use the stride: "
      ]
    },
    {
      "cell_type": "code",
      "metadata": {
        "jupyter": {
          "outputs_hidden": false
        },
        "id": "oytGRg3FEa7z",
        "colab_type": "code",
        "colab": {},
        "outputId": "3d5b42e5-6c4b-444d-cb28-1c05699a6292"
      },
      "source": [
        "# Get every second element in the range from index 0 to index 4\n",
        "\n",
        "Name[0:5:2]"
      ],
      "execution_count": 0,
      "outputs": [
        {
          "output_type": "execute_result",
          "data": {
            "text/plain": [
              "'Mca'"
            ]
          },
          "metadata": {
            "tags": []
          },
          "execution_count": 16
        }
      ]
    },
    {
      "cell_type": "markdown",
      "metadata": {
        "id": "b0pKWAKjEa71",
        "colab_type": "text"
      },
      "source": [
        "<h3 id=\"concat\">Concatenate Strings</h3>"
      ]
    },
    {
      "cell_type": "markdown",
      "metadata": {
        "id": "U_h7Kl95Ea71",
        "colab_type": "text"
      },
      "source": [
        "We can concatenate or combine strings by using the addition symbols, and the result is a new string that is a combination of both:\n"
      ]
    },
    {
      "cell_type": "code",
      "metadata": {
        "jupyter": {
          "outputs_hidden": false
        },
        "id": "4kMnTrbAEa72",
        "colab_type": "code",
        "colab": {},
        "outputId": "cfc307f6-1ecd-4612-c46e-48be3225098d"
      },
      "source": [
        "# Concatenate two strings\n",
        "\n",
        "Statement = Name + \"is the best\"\n",
        "Statement"
      ],
      "execution_count": 0,
      "outputs": [
        {
          "output_type": "execute_result",
          "data": {
            "text/plain": [
              "'Michael Jacksonis the best'"
            ]
          },
          "metadata": {
            "tags": []
          },
          "execution_count": 17
        }
      ]
    },
    {
      "cell_type": "markdown",
      "metadata": {
        "id": "SsXxQ7Z9Ea74",
        "colab_type": "text"
      },
      "source": [
        "To replicate values of a string we simply multiply the string by the number of times we would like to replicate it. In this case, the number is three. The result is a new string, and this new string consists of three copies of the original string:"
      ]
    },
    {
      "cell_type": "code",
      "metadata": {
        "jupyter": {
          "outputs_hidden": false
        },
        "id": "g-AYq5Z5Ea75",
        "colab_type": "code",
        "colab": {},
        "outputId": "ca489667-04ed-4128-c858-0d962653d480"
      },
      "source": [
        "# Print the string for 3 times\n",
        "\n",
        "\n",
        "3 * \"Michael Jackson\""
      ],
      "execution_count": 0,
      "outputs": [
        {
          "output_type": "execute_result",
          "data": {
            "text/plain": [
              "'Michael JacksonMichael JacksonMichael Jackson'"
            ]
          },
          "metadata": {
            "tags": []
          },
          "execution_count": 18
        }
      ]
    },
    {
      "cell_type": "markdown",
      "metadata": {
        "id": "AvAoqR1GEa76",
        "colab_type": "text"
      },
      "source": [
        "You can create a new string by setting it to the original variable. Concatenated  with a new string, the result is a new string that changes from Michael Jackson to “Michael Jackson is the best\".\n"
      ]
    },
    {
      "cell_type": "code",
      "metadata": {
        "jupyter": {
          "outputs_hidden": false
        },
        "id": "lAXu2o6eEa77",
        "colab_type": "code",
        "colab": {},
        "outputId": "be506233-2c81-4d7a-81ec-038e502c8cfe"
      },
      "source": [
        "# Concatenate strings\n",
        "\n",
        "Name = \"Michael Jackson\"\n",
        "Name = Name + \" is the best\"\n",
        "Name"
      ],
      "execution_count": 0,
      "outputs": [
        {
          "output_type": "execute_result",
          "data": {
            "text/plain": [
              "'Michael Jackson is the best'"
            ]
          },
          "metadata": {
            "tags": []
          },
          "execution_count": 19
        }
      ]
    },
    {
      "cell_type": "markdown",
      "metadata": {
        "id": "3sLis9hQEa79",
        "colab_type": "text"
      },
      "source": [
        "<hr>"
      ]
    },
    {
      "cell_type": "markdown",
      "metadata": {
        "id": "ubjUt_XbEa79",
        "colab_type": "text"
      },
      "source": [
        "<h2 id=\"escape\">Escape Sequences</h2>"
      ]
    },
    {
      "cell_type": "markdown",
      "metadata": {
        "id": "zwvyDniNEa79",
        "colab_type": "text"
      },
      "source": [
        "Back slashes represent the beginning  of escape sequences. Escape sequences represent strings that may be difficult to input. For example, back slash \"n\" represents a new line. The output is given by a new line after the back slash \"n\" is encountered:"
      ]
    },
    {
      "cell_type": "code",
      "metadata": {
        "jupyter": {
          "outputs_hidden": false
        },
        "id": "hpWD-UZIEa7-",
        "colab_type": "code",
        "colab": {},
        "outputId": "afa7bb3d-5bb5-4d32-de32-1fd3cab9a573"
      },
      "source": [
        "# New line escape sequence\n",
        "\n",
        "print(\" Michael Jackson \\n is the best\" )"
      ],
      "execution_count": 0,
      "outputs": [
        {
          "output_type": "stream",
          "text": [
            " Michael Jackson \n",
            " is the best\n"
          ],
          "name": "stdout"
        }
      ]
    },
    {
      "cell_type": "markdown",
      "metadata": {
        "id": "a1iGBS7MEa7_",
        "colab_type": "text"
      },
      "source": [
        "Similarly, back slash  \"t\" represents a tab: "
      ]
    },
    {
      "cell_type": "code",
      "metadata": {
        "jupyter": {
          "outputs_hidden": false
        },
        "id": "RU-HsEpMEa8A",
        "colab_type": "code",
        "colab": {},
        "outputId": "b56181d6-a93d-4397-ebd7-18d8fd2cc974"
      },
      "source": [
        "# Tab escape sequence\n",
        "\n",
        "print(\" Michael Jackson \\t is the best\" )"
      ],
      "execution_count": 0,
      "outputs": [
        {
          "output_type": "stream",
          "text": [
            " Michael Jackson \t is the best\n"
          ],
          "name": "stdout"
        }
      ]
    },
    {
      "cell_type": "markdown",
      "metadata": {
        "id": "moaK5RB0Ea8B",
        "colab_type": "text"
      },
      "source": [
        " If you want to place a back slash in your string, use a double back slash:"
      ]
    },
    {
      "cell_type": "code",
      "metadata": {
        "jupyter": {
          "outputs_hidden": false
        },
        "id": "tI49jzCsEa8C",
        "colab_type": "code",
        "colab": {},
        "outputId": "1abc8aa7-5a2c-4385-c8a5-bb13d5d28fd8"
      },
      "source": [
        "# Include back slash in string\n",
        "\n",
        "print(\" Michael Jackson \\\\ is the best\" )"
      ],
      "execution_count": 0,
      "outputs": [
        {
          "output_type": "stream",
          "text": [
            " Michael Jackson \\ is the best\n"
          ],
          "name": "stdout"
        }
      ]
    },
    {
      "cell_type": "markdown",
      "metadata": {
        "id": "EQCabyNFEa8E",
        "colab_type": "text"
      },
      "source": [
        " We can also place an \"r\" before the string to display the backslash:"
      ]
    },
    {
      "cell_type": "code",
      "metadata": {
        "jupyter": {
          "outputs_hidden": false
        },
        "id": "vGl-ds7-Ea8E",
        "colab_type": "code",
        "colab": {},
        "outputId": "e1420bf4-931c-4d71-9675-26e5da5e09f0"
      },
      "source": [
        "# r will tell python that string will be display as raw string\n",
        "\n",
        "print(r\" Michael Jackson \\ is the best\" )"
      ],
      "execution_count": 0,
      "outputs": [
        {
          "output_type": "stream",
          "text": [
            " Michael Jackson \\ is the best\n"
          ],
          "name": "stdout"
        }
      ]
    },
    {
      "cell_type": "markdown",
      "metadata": {
        "id": "TE_fnPseEa8G",
        "colab_type": "text"
      },
      "source": [
        "<hr>"
      ]
    },
    {
      "cell_type": "markdown",
      "metadata": {
        "id": "U8zKznRsEa8G",
        "colab_type": "text"
      },
      "source": [
        "<h2 id=\"operations\">String Operations</h2>"
      ]
    },
    {
      "cell_type": "markdown",
      "metadata": {
        "id": "UK5YWCK6Ea8H",
        "colab_type": "text"
      },
      "source": [
        "There are many string operation methods in Python that can be used to manipulate the data. We are going to use some basic string operations on the data. "
      ]
    },
    {
      "cell_type": "markdown",
      "metadata": {
        "id": "494GqQNdEa8H",
        "colab_type": "text"
      },
      "source": [
        "Let's try with the method <code>upper</code>; this method converts lower case characters to upper case characters:"
      ]
    },
    {
      "cell_type": "code",
      "metadata": {
        "jupyter": {
          "outputs_hidden": false
        },
        "id": "cCLKmn7IEa8I",
        "colab_type": "code",
        "colab": {},
        "outputId": "5ed21308-dd3a-4ebb-8576-35c9e91640f8"
      },
      "source": [
        "# Convert all the characters in string to upper case\n",
        "\n",
        "A = \"Thriller is the sixth studio album\"\n",
        "print(\"before upper:\", A)\n",
        "B = A.upper()\n",
        "print(\"After upper:\", B)"
      ],
      "execution_count": 0,
      "outputs": [
        {
          "output_type": "stream",
          "text": [
            "before upper: Thriller is the sixth studio album\n",
            "After upper: THRILLER IS THE SIXTH STUDIO ALBUM\n"
          ],
          "name": "stdout"
        }
      ]
    },
    {
      "cell_type": "markdown",
      "metadata": {
        "id": "GPOnSq7_Ea8J",
        "colab_type": "text"
      },
      "source": [
        "The method <code>replace</code> replaces a segment of the string, i.e. a substring  with a new string. We input the part of the string we would like to change. The second argument is what we would like to exchange the segment with, and the result is a new string with the segment changed: \n"
      ]
    },
    {
      "cell_type": "code",
      "metadata": {
        "jupyter": {
          "outputs_hidden": false
        },
        "id": "XsU3zWSrEa8K",
        "colab_type": "code",
        "colab": {},
        "outputId": "aa909d27-d5b5-4e76-f891-5189933f6c9d"
      },
      "source": [
        "# Replace the old substring with the new target substring is the segment has been found in the string\n",
        "\n",
        "A = \"Michael Jackson is the best\"\n",
        "B = A.replace('Michael', 'Janet')\n",
        "B"
      ],
      "execution_count": 0,
      "outputs": [
        {
          "output_type": "execute_result",
          "data": {
            "text/plain": [
              "'Janet Jackson is the best'"
            ]
          },
          "metadata": {
            "tags": []
          },
          "execution_count": 25
        }
      ]
    },
    {
      "cell_type": "markdown",
      "metadata": {
        "id": "ti_k77A9Ea8M",
        "colab_type": "text"
      },
      "source": [
        "The method <code>find</code> finds a sub-string. The argument is the substring you would like to find, and the output is the first index of the sequence. We can find the sub-string <code>jack</code> or <code>el<code>.  "
      ]
    },
    {
      "cell_type": "markdown",
      "metadata": {
        "id": "UDv57T6XEa8M",
        "colab_type": "text"
      },
      "source": [
        "<img src=\"https://s3-api.us-geo.objectstorage.softlayer.net/cf-courses-data/CognitiveClass/PY0101EN/Chapter%201/Images/StringsFind.png\" width=\"600\" align=\"center\" />"
      ]
    },
    {
      "cell_type": "code",
      "metadata": {
        "jupyter": {
          "outputs_hidden": false
        },
        "id": "BrUgCUWjEa8M",
        "colab_type": "code",
        "colab": {},
        "outputId": "d95fa8c9-142c-4a86-9b35-577775ef5de4"
      },
      "source": [
        "# Find the substring in the string. Only the index of the first elment of substring in string will be the output\n",
        "\n",
        "Name = \"Michael Jackson\"\n",
        "Name.find('el')"
      ],
      "execution_count": 0,
      "outputs": [
        {
          "output_type": "execute_result",
          "data": {
            "text/plain": [
              "5"
            ]
          },
          "metadata": {
            "tags": []
          },
          "execution_count": 27
        }
      ]
    },
    {
      "cell_type": "code",
      "metadata": {
        "jupyter": {
          "outputs_hidden": false
        },
        "id": "-RCQLHV9Ea8P",
        "colab_type": "code",
        "colab": {},
        "outputId": "d001916c-122f-4300-de6f-84b07401f533"
      },
      "source": [
        "# Find the substring in the string.\n",
        "\n",
        "Name.find('Jack')"
      ],
      "execution_count": 0,
      "outputs": [
        {
          "output_type": "execute_result",
          "data": {
            "text/plain": [
              "8"
            ]
          },
          "metadata": {
            "tags": []
          },
          "execution_count": 28
        }
      ]
    },
    {
      "cell_type": "markdown",
      "metadata": {
        "id": "qP11NTb8Ea8R",
        "colab_type": "text"
      },
      "source": [
        "If the  sub-string is not in the string then the output is a negative one. For example, the string 'Jasdfasdasdf' is not a substring:"
      ]
    },
    {
      "cell_type": "code",
      "metadata": {
        "id": "hkgw_KFIEa8R",
        "colab_type": "code",
        "colab": {},
        "outputId": "297db387-147a-4e59-c919-c9386a8a0e90"
      },
      "source": [
        "# If cannot find the substring in the string\n",
        "\n",
        "Name.find('Jasdfasdasdf')"
      ],
      "execution_count": 0,
      "outputs": [
        {
          "output_type": "execute_result",
          "data": {
            "text/plain": [
              "-1"
            ]
          },
          "metadata": {
            "tags": []
          },
          "execution_count": 29
        }
      ]
    },
    {
      "cell_type": "markdown",
      "metadata": {
        "id": "_y4y6GBIEa8U",
        "colab_type": "text"
      },
      "source": [
        "<hr>"
      ]
    },
    {
      "cell_type": "markdown",
      "metadata": {
        "id": "HvlH8m4lEa8U",
        "colab_type": "text"
      },
      "source": [
        "<h2 id=\"quiz\">Quiz on Strings</h2>"
      ]
    },
    {
      "cell_type": "markdown",
      "metadata": {
        "id": "vYEjltl6Ea8U",
        "colab_type": "text"
      },
      "source": [
        "What is the value of the variable <code>A</code> after the following code is executed? "
      ]
    },
    {
      "cell_type": "code",
      "metadata": {
        "id": "ek_ArdxJEa8V",
        "colab_type": "code",
        "colab": {},
        "outputId": "5d0701a0-ec8b-4830-ee57-25f70ac2e4d7"
      },
      "source": [
        "# Write your code below and press Shift+Enter to execute \n",
        "\n",
        "A = \"1\"\n",
        "\n",
        "'1'"
      ],
      "execution_count": 0,
      "outputs": [
        {
          "output_type": "execute_result",
          "data": {
            "text/plain": [
              "'1'"
            ]
          },
          "metadata": {
            "tags": []
          },
          "execution_count": 31
        }
      ]
    },
    {
      "cell_type": "markdown",
      "metadata": {
        "id": "wjpOkgmoEa8W",
        "colab_type": "text"
      },
      "source": [
        "Double-click <b>here</b> for the solution.\n",
        "\n",
        "<!-- Your answer is below:\n",
        "\"1\"\n",
        "-->"
      ]
    },
    {
      "cell_type": "markdown",
      "metadata": {
        "id": "11Ov-B5iEa8X",
        "colab_type": "text"
      },
      "source": [
        "What is the value of the variable <code>B</code> after the following code is executed?"
      ]
    },
    {
      "cell_type": "code",
      "metadata": {
        "id": "KPCMh3QcEa8X",
        "colab_type": "code",
        "colab": {},
        "outputId": "ecc84693-c297-40f6-c5c1-1be95f19aab5"
      },
      "source": [
        "# Write your code below and press Shift+Enter to execute\n",
        "\n",
        "B = \"2\"\n",
        "\n",
        "'2'"
      ],
      "execution_count": 0,
      "outputs": [
        {
          "output_type": "execute_result",
          "data": {
            "text/plain": [
              "'2'"
            ]
          },
          "metadata": {
            "tags": []
          },
          "execution_count": 32
        }
      ]
    },
    {
      "cell_type": "markdown",
      "metadata": {
        "id": "IibThZPREa8Y",
        "colab_type": "text"
      },
      "source": [
        "Double-click <b>here</b> for the solution.\n",
        "\n",
        "<!-- Your answer is below:\n",
        "\"2\"\n",
        "-->"
      ]
    },
    {
      "cell_type": "markdown",
      "metadata": {
        "id": "bNh1EkUREa8Z",
        "colab_type": "text"
      },
      "source": [
        "What is the value of the variable <code>C</code> after the following code is executed?"
      ]
    },
    {
      "cell_type": "code",
      "metadata": {
        "jupyter": {
          "outputs_hidden": false
        },
        "id": "1Q0PKmLXEa8Z",
        "colab_type": "code",
        "colab": {},
        "outputId": "dae6fcdd-0090-4f55-b1a4-ecc47f96dae5"
      },
      "source": [
        "# Write your code below and press Shift+Enter to execute \n",
        "\n",
        "C = A + B \n",
        "\n",
        "12"
      ],
      "execution_count": 0,
      "outputs": [
        {
          "output_type": "execute_result",
          "data": {
            "text/plain": [
              "12"
            ]
          },
          "metadata": {
            "tags": []
          },
          "execution_count": 33
        }
      ]
    },
    {
      "cell_type": "markdown",
      "metadata": {
        "id": "2jC6EoIIEa8c",
        "colab_type": "text"
      },
      "source": [
        "Double-click <b>here</b> for the solution.\n",
        "\n",
        "<!-- Your answer is below:\n",
        "\"12\"\n",
        "-->"
      ]
    },
    {
      "cell_type": "markdown",
      "metadata": {
        "id": "UBbq9lKKEa8d",
        "colab_type": "text"
      },
      "source": [
        "<hr>"
      ]
    },
    {
      "cell_type": "markdown",
      "metadata": {
        "id": "wykUxQt1Ea8d",
        "colab_type": "text"
      },
      "source": [
        "Consider the variable <code>D</code> use slicing to print out the first three elements:"
      ]
    },
    {
      "cell_type": "code",
      "metadata": {
        "jupyter": {
          "outputs_hidden": false
        },
        "id": "GKOwW5yHEa8d",
        "colab_type": "code",
        "colab": {},
        "outputId": "1072c75e-c83f-46f4-8d56-30995fa056b5"
      },
      "source": [
        "# Write your code below and press Shift+Enter to execute\n",
        "\n",
        "D = \"ABCDEFG\"\n",
        "\n",
        "print(D[0:3])\n"
      ],
      "execution_count": 0,
      "outputs": [
        {
          "output_type": "stream",
          "text": [
            "ABC\n"
          ],
          "name": "stdout"
        }
      ]
    },
    {
      "cell_type": "markdown",
      "metadata": {
        "id": "hb7W_SpnEa8f",
        "colab_type": "text"
      },
      "source": [
        "Double-click <b>here</b> for the solution.\n",
        "\n",
        "<!-- Your answer is below:\n",
        "print(D[:3]) \n",
        "# or \n",
        "print(D[0:3])\n",
        "-->"
      ]
    },
    {
      "cell_type": "markdown",
      "metadata": {
        "id": "IrWLatJbEa8f",
        "colab_type": "text"
      },
      "source": [
        "<hr>"
      ]
    },
    {
      "cell_type": "markdown",
      "metadata": {
        "id": "7u6T3zTjEa8f",
        "colab_type": "text"
      },
      "source": [
        "Use a stride value of 2 to print out every second character of the string <code>E</code>: "
      ]
    },
    {
      "cell_type": "code",
      "metadata": {
        "id": "go0qLSCzEa8g",
        "colab_type": "code",
        "colab": {},
        "outputId": "a5af4845-5328-4b3e-be3a-762afeebf706"
      },
      "source": [
        "# Write your code below and press Shift+Enter to execute\n",
        "\n",
        "E = 'clocrkr1e1c1t'\n",
        "\n",
        "print(E[::2])"
      ],
      "execution_count": 0,
      "outputs": [
        {
          "output_type": "stream",
          "text": [
            "correct\n"
          ],
          "name": "stdout"
        }
      ]
    },
    {
      "cell_type": "markdown",
      "metadata": {
        "id": "U6_6hqp9Ea8i",
        "colab_type": "text"
      },
      "source": [
        "Double-click <b>here</b> for the solution.\n",
        "\n",
        "<!-- Your answer is below:\n",
        "print(E[::2])\n",
        "-->"
      ]
    },
    {
      "cell_type": "markdown",
      "metadata": {
        "id": "5I9QmLBVEa8i",
        "colab_type": "text"
      },
      "source": [
        "<hr>"
      ]
    },
    {
      "cell_type": "markdown",
      "metadata": {
        "id": "JESxCD1REa8i",
        "colab_type": "text"
      },
      "source": [
        "Print out a backslash:"
      ]
    },
    {
      "cell_type": "code",
      "metadata": {
        "jupyter": {
          "outputs_hidden": false
        },
        "id": "HC2wETaHEa8i",
        "colab_type": "code",
        "colab": {},
        "outputId": "57bca25f-1606-419c-b690-0f036edfc82f"
      },
      "source": [
        "# Write your code below and press Shift+Enter to execute\n",
        "\n",
        "print('\\\\')\n"
      ],
      "execution_count": 0,
      "outputs": [
        {
          "output_type": "stream",
          "text": [
            "\\\n"
          ],
          "name": "stdout"
        }
      ]
    },
    {
      "cell_type": "markdown",
      "metadata": {
        "id": "kk937xsLEa8k",
        "colab_type": "text"
      },
      "source": [
        "Double-click <b>here</b> for the solution.\n",
        "<!-- Your answer is below:\n",
        "print(\"\\\\\")\n",
        "or\n",
        "print(r\" \\ \")\n",
        "-->"
      ]
    },
    {
      "cell_type": "markdown",
      "metadata": {
        "id": "7v8kHCrrEa8l",
        "colab_type": "text"
      },
      "source": [
        "<hr>"
      ]
    },
    {
      "cell_type": "markdown",
      "metadata": {
        "id": "ewDzeR7MEa8l",
        "colab_type": "text"
      },
      "source": [
        "Convert the variable <code>F</code> to uppercase:"
      ]
    },
    {
      "cell_type": "code",
      "metadata": {
        "jupyter": {
          "outputs_hidden": false
        },
        "id": "uBUOwCeAEa8l",
        "colab_type": "code",
        "colab": {},
        "outputId": "15e2cdce-6060-46b8-f973-7b9e9dd017cd"
      },
      "source": [
        "# Write your code below and press Shift+Enter to execute\n",
        "\n",
        "F = \"You are wrong\"\n",
        "\n",
        "print(F.upper())"
      ],
      "execution_count": 0,
      "outputs": [
        {
          "output_type": "stream",
          "text": [
            "YOU ARE WRONG\n"
          ],
          "name": "stdout"
        }
      ]
    },
    {
      "cell_type": "markdown",
      "metadata": {
        "id": "xwpJzuK0Ea8n",
        "colab_type": "text"
      },
      "source": [
        "Double-click <b>here</b> for the solution.\n",
        "\n",
        "<!-- Your answer is below:\n",
        "F.upper()\n",
        "-->"
      ]
    },
    {
      "cell_type": "markdown",
      "metadata": {
        "id": "1YVDLc2-Ea8o",
        "colab_type": "text"
      },
      "source": [
        "<hr>"
      ]
    },
    {
      "cell_type": "markdown",
      "metadata": {
        "id": "NYe0FaOFEa8o",
        "colab_type": "text"
      },
      "source": [
        "Consider the variable <code>G</code>, and find the first index of the sub-string <code>snow</code>:"
      ]
    },
    {
      "cell_type": "code",
      "metadata": {
        "jupyter": {
          "outputs_hidden": false
        },
        "id": "Ua3a7rIqEa8p",
        "colab_type": "code",
        "colab": {},
        "outputId": "c37df8dc-f131-4268-bdd9-9a469d930e1c"
      },
      "source": [
        "# Write your code below and press Shift+Enter to execute\n",
        "\n",
        "G = \"Mary had a little lamb Little lamb, little lamb Mary had a little lamb \\\n",
        "Its fleece was white as snow And everywhere that Mary went Mary went, Mary went \\\n",
        "Everywhere that Mary went The lamb was sure to go\"\n",
        "\n",
        "G.find('snow')\n"
      ],
      "execution_count": 0,
      "outputs": [
        {
          "output_type": "execute_result",
          "data": {
            "text/plain": [
              "'HELLO'"
            ]
          },
          "metadata": {
            "tags": []
          },
          "execution_count": 45
        }
      ]
    },
    {
      "cell_type": "markdown",
      "metadata": {
        "id": "HoEF-HR2Ea8q",
        "colab_type": "text"
      },
      "source": [
        "Double-click __here__ for the solution.\n",
        "\n",
        "<!-- Your answer is below:\n",
        "G.find(\"snow\")\n",
        "-->\n"
      ]
    },
    {
      "cell_type": "markdown",
      "metadata": {
        "id": "Lk6DiEnZEa8r",
        "colab_type": "text"
      },
      "source": [
        "In the variable <code>G</code>, replace the sub-string <code>Mary</code> with <code>Bob</code>:"
      ]
    },
    {
      "cell_type": "code",
      "metadata": {
        "jupyter": {
          "outputs_hidden": false
        },
        "id": "Qt0UlTdLEa8r",
        "colab_type": "code",
        "colab": {},
        "outputId": "e6d1a5bb-53b5-4471-c775-e5ecae9a76f8"
      },
      "source": [
        "# Write your code below and press Shift+Enter to execute\n",
        "\n",
        "F=G.replace('Mary','Bob')\n",
        "\n",
        "print(F)"
      ],
      "execution_count": 0,
      "outputs": [
        {
          "output_type": "stream",
          "text": [
            "Bob had a little lamb Little lamb, little lamb Bob had a little lamb Its fleece was white as snow And everywhere that Bob went Bob went, Bob went Everywhere that Bob went The lamb was sure to go\n"
          ],
          "name": "stdout"
        }
      ]
    },
    {
      "cell_type": "markdown",
      "metadata": {
        "id": "jw9SZWJqEa8t",
        "colab_type": "text"
      },
      "source": [
        "Double-click __here__ for the solution.\n",
        "\n",
        "<!-- Your answer is below:\n",
        "G.replace(\"Mary\", \"Bob\")\n",
        "-->"
      ]
    },
    {
      "cell_type": "markdown",
      "metadata": {
        "id": "5llirVSBEa8u",
        "colab_type": "text"
      },
      "source": [
        "<hr>\n",
        "<h2>The last exercise!</h2>\n",
        "<p>Congratulations, you have completed your first lesson and hands-on lab in Python. However, there is one more thing you need to do. The Data Science community encourages sharing work. The best way to share and showcase your work is to share it on GitHub. By sharing your notebook on GitHub you are not only building your reputation with fellow data scientists, but you can also show it off when applying for a job. Even though this was your first piece of work, it is never too early to start building good habits. So, please read and follow <a href=\"https://cognitiveclass.ai/blog/data-scientists-stand-out-by-sharing-your-notebooks/\" target=\"_blank\">this article</a> to learn how to share your work.\n",
        "<hr>"
      ]
    },
    {
      "cell_type": "markdown",
      "metadata": {
        "id": "dubqgPfAEa8u",
        "colab_type": "text"
      },
      "source": [
        "<div class=\"alert alert-block alert-info\" style=\"margin-top: 20px\">\n",
        "<h2>Get IBM Watson Studio free of charge!</h2>\n",
        "    <p><a href=\"https://cocl.us/bottemNotebooksPython101Coursera\"><img src=\"https://s3-api.us-geo.objectstorage.softlayer.net/cf-courses-data/CognitiveClass/PY0101EN/Ad/BottomAd.png\" width=\"750\" align=\"center\"></a></p>\n",
        "</div>"
      ]
    },
    {
      "cell_type": "markdown",
      "metadata": {
        "id": "_IKQviJcEa8u",
        "colab_type": "text"
      },
      "source": [
        "<h3>About the Authors:</h3>  \n",
        "<p><a href=\"https://www.linkedin.com/in/joseph-s-50398b136/\" target=\"_blank\">Joseph Santarcangelo</a> is a Data Scientist at IBM, and holds a PhD in Electrical Engineering. His research focused on using Machine Learning, Signal Processing, and Computer Vision to determine how videos impact human cognition. Joseph has been working for IBM since he completed his PhD.</p>"
      ]
    },
    {
      "cell_type": "markdown",
      "metadata": {
        "id": "U2qVK5JDEa8v",
        "colab_type": "text"
      },
      "source": [
        "Other contributors: <a href=\"www.linkedin.com/in/jiahui-mavis-zhou-a4537814a\">Mavis Zhou</a>"
      ]
    },
    {
      "cell_type": "markdown",
      "metadata": {
        "id": "rNfC5iLbEa8v",
        "colab_type": "text"
      },
      "source": [
        "<hr>\n",
        "<p>Copyright &copy; 2018 IBM Developer Skills Network. This notebook and its source code are released under the terms of the <a href=\"https://cognitiveclass.ai/mit-license/\">MIT License</a>.</p>"
      ]
    }
  ]
}